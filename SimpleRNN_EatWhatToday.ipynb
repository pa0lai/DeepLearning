{
  "nbformat": 4,
  "nbformat_minor": 0,
  "metadata": {
    "colab": {
      "provenance": [],
      "gpuType": "T4",
      "authorship_tag": "ABX9TyOv4CSWZswgmKSsmPJ4ZqKM",
      "include_colab_link": true
    },
    "kernelspec": {
      "name": "python3",
      "display_name": "Python 3"
    },
    "language_info": {
      "name": "python"
    },
    "accelerator": "GPU"
  },
  "cells": [
    {
      "cell_type": "markdown",
      "metadata": {
        "id": "view-in-github",
        "colab_type": "text"
      },
      "source": [
        "<a href=\"https://colab.research.google.com/github/pa0lai/DeepLearning/blob/main/SimpleRNN_EatWhatToday.ipynb\" target=\"_parent\"><img src=\"https://colab.research.google.com/assets/colab-badge.svg\" alt=\"Open In Colab\"/></a>"
      ]
    },
    {
      "cell_type": "markdown",
      "source": [
        "# 環境設定"
      ],
      "metadata": {
        "id": "khaap7hIbyYm"
      }
    },
    {
      "cell_type": "code",
      "execution_count": 1,
      "metadata": {
        "id": "6YBpEq9nboh0"
      },
      "outputs": [],
      "source": [
        "# Install HappyML\n",
        "import os\n",
        "\n",
        "if not os.path.isdir(\"HappyML\"):\n",
        "    os.system(\"git clone https://github.com/cnchi/HappyML.git\")"
      ]
    },
    {
      "cell_type": "code",
      "source": [
        "# Upload Dataset\n",
        "Dataset_File = \"Meals.csv\"\n",
        "\n",
        "if not os.path.isfile(Dataset_File):\n",
        "  os.system(\"wget https://raw.githubusercontent.com/cnchi/datasets/master/\" + Dataset_File)"
      ],
      "metadata": {
        "id": "LWr_BeRlb17Y"
      },
      "execution_count": 2,
      "outputs": []
    },
    {
      "cell_type": "code",
      "source": [
        "# Customizable Constants\n",
        "train_size = 0.75\n",
        "\n",
        "win_size = 2 #RNN特有，往前抓N筆\n",
        "sample_step = 1 #RNN特有，每隔N筆取一次資料\n",
        "win_moving = 1  #RNN特有，往後移動N格（通常重複一格）\n",
        "\n",
        "data_batch = 10"
      ],
      "metadata": {
        "id": "f7hD1CMGc8Lm"
      },
      "execution_count": 3,
      "outputs": []
    },
    {
      "cell_type": "markdown",
      "source": [
        "# 資料集前處理"
      ],
      "metadata": {
        "id": "6vju_7btg6O1"
      }
    },
    {
      "cell_type": "code",
      "source": [
        "# Load Data\n",
        "import HappyML.preprocessor as pp\n",
        "import numpy as np\n",
        "\n",
        "dataset = pp.dataset(file=\"Meals.csv\")\n",
        "\n",
        "# Remove the date, keep meal only\n",
        "dataset = pp.onehot_encoder(dataset, columns=[1]).iloc[:, 1:]"
      ],
      "metadata": {
        "id": "IJYTtyeIg8nY"
      },
      "execution_count": 4,
      "outputs": []
    },
    {
      "cell_type": "code",
      "source": [
        "# Keep the One Hot Encoding Mapping\n",
        "mapper = [s[5:] for s in list(dataset.columns)]\n",
        "\n",
        "# Convert dataset from DataFrame as NDArray\n",
        "dataset = dataset.values\n",
        "train_data, test_data = np.split(dataset, [int(train_size * len(dataset))])"
      ],
      "metadata": {
        "id": "-sdvxWnejssp"
      },
      "execution_count": 5,
      "outputs": []
    },
    {
      "cell_type": "markdown",
      "source": [
        "# RNN 資料集準備"
      ],
      "metadata": {
        "id": "A0_bjKHApa0_"
      }
    },
    {
      "cell_type": "code",
      "source": [
        "# Training Set & Testing Set for RNN\n",
        "from tensorflow.keras.preprocessing.sequence import TimeseriesGenerator\n",
        "\n",
        "train_set = TimeseriesGenerator(\n",
        "        data=train_data,\n",
        "        targets=train_data,\n",
        "        length=win_size,\n",
        "        sampling_rate=sample_step,\n",
        "        stride=win_moving,\n",
        "        batch_size=data_batch)\n",
        "\n",
        "test_set = TimeseriesGenerator(\n",
        "        data=test_data,\n",
        "        targets=test_data,\n",
        "        length=win_size,\n",
        "        sampling_rate=sample_step,\n",
        "        stride=win_moving,\n",
        "        batch_size=data_batch)"
      ],
      "metadata": {
        "id": "AGwisxK9pecw"
      },
      "execution_count": 6,
      "outputs": []
    },
    {
      "cell_type": "markdown",
      "source": [
        "# 模型建造"
      ],
      "metadata": {
        "id": "Elx_HzNTsd97"
      }
    },
    {
      "cell_type": "code",
      "source": [
        "# Create Model\n",
        "from tensorflow.keras.models import Sequential\n",
        "from tensorflow.keras import layers\n",
        "\n",
        "# TO-DO: Add more RNN layers & do the validation set\n",
        "model = Sequential()\n",
        "model.add(layers.SimpleRNN(10, input_shape=(win_size, dataset.shape[1])))\n",
        "model.add(layers.Dense(dataset.shape[1], activation=\"softmax\"))\n",
        "model.compile(optimizer=\"rmsprop\", loss=\"categorical_crossentropy\", metrics=[\"acc\"])"
      ],
      "metadata": {
        "id": "NA1jOBhGsebX"
      },
      "execution_count": 7,
      "outputs": []
    },
    {
      "cell_type": "markdown",
      "source": [
        "# 模型訓練"
      ],
      "metadata": {
        "id": "Z7qRT1fwsi5f"
      }
    },
    {
      "cell_type": "code",
      "source": [
        "# Train Model\n",
        "# Run multiple times of RNN can raise up the accuracy.\n",
        "\n",
        "# TO-DO: Find the best epochs\n",
        "model.fit(train_set, epochs=50)"
      ],
      "metadata": {
        "colab": {
          "base_uri": "https://localhost:8080/"
        },
        "id": "9dgC8BNhskau",
        "outputId": "ca45a09d-ddef-440f-8236-2356da37b8dd"
      },
      "execution_count": 8,
      "outputs": [
        {
          "output_type": "stream",
          "name": "stdout",
          "text": [
            "Epoch 1/50\n",
            "3/3 [==============================] - 5s 16ms/step - loss: 1.3910 - acc: 0.2857\n",
            "Epoch 2/50\n",
            "3/3 [==============================] - 0s 12ms/step - loss: 1.3511 - acc: 0.2857\n",
            "Epoch 3/50\n",
            "3/3 [==============================] - 0s 12ms/step - loss: 1.3240 - acc: 0.2857\n",
            "Epoch 4/50\n",
            "3/3 [==============================] - 0s 12ms/step - loss: 1.3052 - acc: 0.2857\n",
            "Epoch 5/50\n",
            "3/3 [==============================] - 0s 13ms/step - loss: 1.2902 - acc: 0.2857\n",
            "Epoch 6/50\n",
            "3/3 [==============================] - 0s 13ms/step - loss: 1.2722 - acc: 0.2857\n",
            "Epoch 7/50\n",
            "3/3 [==============================] - 0s 13ms/step - loss: 1.2583 - acc: 0.4762\n",
            "Epoch 8/50\n",
            "3/3 [==============================] - 0s 13ms/step - loss: 1.2416 - acc: 0.4762\n",
            "Epoch 9/50\n",
            "3/3 [==============================] - 0s 12ms/step - loss: 1.2294 - acc: 0.4762\n",
            "Epoch 10/50\n",
            "3/3 [==============================] - 0s 13ms/step - loss: 1.2136 - acc: 0.4762\n",
            "Epoch 11/50\n",
            "3/3 [==============================] - 0s 20ms/step - loss: 1.1997 - acc: 0.4762\n",
            "Epoch 12/50\n",
            "3/3 [==============================] - 0s 12ms/step - loss: 1.1883 - acc: 0.4762\n",
            "Epoch 13/50\n",
            "3/3 [==============================] - 0s 11ms/step - loss: 1.1735 - acc: 0.4762\n",
            "Epoch 14/50\n",
            "3/3 [==============================] - 0s 15ms/step - loss: 1.1623 - acc: 0.4762\n",
            "Epoch 15/50\n",
            "3/3 [==============================] - 0s 12ms/step - loss: 1.1481 - acc: 0.4762\n",
            "Epoch 16/50\n",
            "3/3 [==============================] - 0s 11ms/step - loss: 1.1372 - acc: 0.4762\n",
            "Epoch 17/50\n",
            "3/3 [==============================] - 0s 16ms/step - loss: 1.1250 - acc: 0.4762\n",
            "Epoch 18/50\n",
            "3/3 [==============================] - 0s 12ms/step - loss: 1.1118 - acc: 0.4762\n",
            "Epoch 19/50\n",
            "3/3 [==============================] - 0s 14ms/step - loss: 1.1000 - acc: 0.4762\n",
            "Epoch 20/50\n",
            "3/3 [==============================] - 0s 14ms/step - loss: 1.0894 - acc: 0.4762\n",
            "Epoch 21/50\n",
            "3/3 [==============================] - 0s 8ms/step - loss: 1.0781 - acc: 0.4762\n",
            "Epoch 22/50\n",
            "3/3 [==============================] - 0s 10ms/step - loss: 1.0668 - acc: 0.4762\n",
            "Epoch 23/50\n",
            "3/3 [==============================] - 0s 10ms/step - loss: 1.0546 - acc: 0.4762\n",
            "Epoch 24/50\n",
            "3/3 [==============================] - 0s 9ms/step - loss: 1.0442 - acc: 0.4762\n",
            "Epoch 25/50\n",
            "3/3 [==============================] - 0s 8ms/step - loss: 1.0333 - acc: 0.4762\n",
            "Epoch 26/50\n",
            "3/3 [==============================] - 0s 10ms/step - loss: 1.0217 - acc: 0.4762\n",
            "Epoch 27/50\n",
            "3/3 [==============================] - 0s 10ms/step - loss: 1.0119 - acc: 0.4762\n",
            "Epoch 28/50\n",
            "3/3 [==============================] - 0s 8ms/step - loss: 1.0012 - acc: 0.4762\n",
            "Epoch 29/50\n",
            "3/3 [==============================] - 0s 8ms/step - loss: 0.9909 - acc: 0.6667\n",
            "Epoch 30/50\n",
            "3/3 [==============================] - 0s 9ms/step - loss: 0.9799 - acc: 0.6667\n",
            "Epoch 31/50\n",
            "3/3 [==============================] - 0s 8ms/step - loss: 0.9703 - acc: 0.6667\n",
            "Epoch 32/50\n",
            "3/3 [==============================] - 0s 12ms/step - loss: 0.9609 - acc: 0.6667\n",
            "Epoch 33/50\n",
            "3/3 [==============================] - 0s 9ms/step - loss: 0.9501 - acc: 0.6667\n",
            "Epoch 34/50\n",
            "3/3 [==============================] - 0s 8ms/step - loss: 0.9403 - acc: 0.6667\n",
            "Epoch 35/50\n",
            "3/3 [==============================] - 0s 9ms/step - loss: 0.9303 - acc: 0.7143\n",
            "Epoch 36/50\n",
            "3/3 [==============================] - 0s 7ms/step - loss: 0.9202 - acc: 0.8095\n",
            "Epoch 37/50\n",
            "3/3 [==============================] - 0s 9ms/step - loss: 0.9105 - acc: 0.8095\n",
            "Epoch 38/50\n",
            "3/3 [==============================] - 0s 9ms/step - loss: 0.9012 - acc: 0.8095\n",
            "Epoch 39/50\n",
            "3/3 [==============================] - 0s 7ms/step - loss: 0.8915 - acc: 0.8095\n",
            "Epoch 40/50\n",
            "3/3 [==============================] - 0s 9ms/step - loss: 0.8819 - acc: 0.8095\n",
            "Epoch 41/50\n",
            "3/3 [==============================] - 0s 12ms/step - loss: 0.8715 - acc: 0.8095\n",
            "Epoch 42/50\n",
            "3/3 [==============================] - 0s 9ms/step - loss: 0.8629 - acc: 0.6667\n",
            "Epoch 43/50\n",
            "3/3 [==============================] - 0s 8ms/step - loss: 0.8528 - acc: 0.8095\n",
            "Epoch 44/50\n",
            "3/3 [==============================] - 0s 8ms/step - loss: 0.8441 - acc: 0.8571\n",
            "Epoch 45/50\n",
            "3/3 [==============================] - 0s 9ms/step - loss: 0.8346 - acc: 0.8571\n",
            "Epoch 46/50\n",
            "3/3 [==============================] - 0s 13ms/step - loss: 0.8244 - acc: 0.8571\n",
            "Epoch 47/50\n",
            "3/3 [==============================] - 0s 8ms/step - loss: 0.8163 - acc: 0.8571\n",
            "Epoch 48/50\n",
            "3/3 [==============================] - 0s 11ms/step - loss: 0.8061 - acc: 0.8571\n",
            "Epoch 49/50\n",
            "3/3 [==============================] - 0s 8ms/step - loss: 0.7968 - acc: 0.8571\n",
            "Epoch 50/50\n",
            "3/3 [==============================] - 0s 8ms/step - loss: 0.7888 - acc: 0.8571\n"
          ]
        },
        {
          "output_type": "execute_result",
          "data": {
            "text/plain": [
              "<keras.src.callbacks.History at 0x7be85735e890>"
            ]
          },
          "metadata": {},
          "execution_count": 8
        }
      ]
    },
    {
      "cell_type": "markdown",
      "source": [
        "# 模型評估"
      ],
      "metadata": {
        "id": "-cRm2maDwPvI"
      }
    },
    {
      "cell_type": "code",
      "source": [
        "# Model Evaluation\n",
        "test_loss, test_acc = model.evaluate(test_set)\n",
        "print(\"Loss of Test Set:\", test_loss)\n",
        "print(\"Accuracy of Test Set:\", test_acc)"
      ],
      "metadata": {
        "colab": {
          "base_uri": "https://localhost:8080/"
        },
        "id": "nlZIdsDEwRId",
        "outputId": "91c97236-f9f4-4cf9-b8aa-3cce8fde2c07"
      },
      "execution_count": 9,
      "outputs": [
        {
          "output_type": "stream",
          "name": "stdout",
          "text": [
            "1/1 [==============================] - 0s 259ms/step - loss: 0.7948 - acc: 0.8333\n",
            "Loss of Test Set: 0.7947983741760254\n",
            "Accuracy of Test Set: 0.8333333134651184\n"
          ]
        }
      ]
    },
    {
      "cell_type": "markdown",
      "source": [
        "# 模型預測"
      ],
      "metadata": {
        "id": "gPHH5QWYwVcQ"
      }
    },
    {
      "cell_type": "code",
      "source": [
        "# Model Prediction\n",
        "Y_pred = np.argmax(model.predict(test_set), axis=-1)\n",
        "Y_real = np.argmax(test_set[0][1], axis=-1)\n",
        "\n",
        "# Convert from number to label\n",
        "print(\"Prediction:\", [mapper[i] for i in Y_pred])\n",
        "print(\"Real Value:\", [mapper[i] for i in Y_real])"
      ],
      "metadata": {
        "colab": {
          "base_uri": "https://localhost:8080/"
        },
        "id": "sN_4u2oswUOJ",
        "outputId": "483587d8-80b1-479d-f3e7-39d9e7053ef7"
      },
      "execution_count": 10,
      "outputs": [
        {
          "output_type": "stream",
          "name": "stdout",
          "text": [
            "1/1 [==============================] - 0s 181ms/step\n",
            "Prediction: ['黃金炒飯', '大魯麵', '自助餐', '黃金炒飯', '大魯麵', '煎餃']\n",
            "Real Value: ['自助餐', '大魯麵', '自助餐', '黃金炒飯', '大魯麵', '煎餃']\n"
          ]
        }
      ]
    },
    {
      "cell_type": "markdown",
      "source": [
        "# 使用者資料預測"
      ],
      "metadata": {
        "id": "FfIlPzhVxUGK"
      }
    },
    {
      "cell_type": "code",
      "source": [
        "# User input\n",
        "from tensorflow.keras.utils import to_categorical\n",
        "\n",
        "meals = []\n",
        "meals += [mapper.index(input(\"請問你前天吃什麼：\"))]\n",
        "meals += [mapper.index(input(\"請問你昨天吃什麼：\"))]\n",
        "\n",
        "meals = np.reshape(to_categorical(meals, dataset.shape[1]), (1, win_size, dataset.shape[1]))\n",
        "meal_today = np.argmax(model.predict(meals), axis=-1)\n",
        "print(\"我猜你今天會吃：\", mapper[meal_today[0]])"
      ],
      "metadata": {
        "colab": {
          "base_uri": "https://localhost:8080/"
        },
        "id": "hVXfjY8FxVmG",
        "outputId": "6e153288-48b7-4012-93ae-3c39e5feff92"
      },
      "execution_count": 12,
      "outputs": [
        {
          "output_type": "stream",
          "name": "stdout",
          "text": [
            "請問你前天吃什麼：自助餐\n",
            "請問你昨天吃什麼：自助餐\n",
            "1/1 [==============================] - 0s 145ms/step\n",
            "我猜你今天會吃： 大魯麵\n"
          ]
        }
      ]
    }
  ]
}