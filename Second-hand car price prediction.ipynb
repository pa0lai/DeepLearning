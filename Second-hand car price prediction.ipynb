{
  "nbformat": 4,
  "nbformat_minor": 0,
  "metadata": {
    "colab": {
      "provenance": [],
      "gpuType": "T4",
      "authorship_tag": "ABX9TyMJU2d2Wn9ly1F/BQiDPZC/",
      "include_colab_link": true
    },
    "kernelspec": {
      "name": "python3",
      "display_name": "Python 3"
    },
    "language_info": {
      "name": "python"
    },
    "accelerator": "GPU"
  },
  "cells": [
    {
      "cell_type": "markdown",
      "metadata": {
        "id": "view-in-github",
        "colab_type": "text"
      },
      "source": [
        "<a href=\"https://colab.research.google.com/github/pa0lai/DeepLearning/blob/main/Second-hand%20car%20price%20prediction.ipynb\" target=\"_parent\"><img src=\"https://colab.research.google.com/assets/colab-badge.svg\" alt=\"Open In Colab\"/></a>"
      ]
    },
    {
      "cell_type": "markdown",
      "source": [
        "environment setting"
      ],
      "metadata": {
        "id": "NkdoIANqipai"
      }
    },
    {
      "cell_type": "code",
      "source": [
        "import pandas as pd\n",
        "import numpy as np\n",
        "import os"
      ],
      "metadata": {
        "id": "5IpqIgBIk2wi"
      },
      "execution_count": null,
      "outputs": []
    },
    {
      "cell_type": "code",
      "execution_count": null,
      "metadata": {
        "id": "tEyS1yPtieEO"
      },
      "outputs": [],
      "source": [
        "\n",
        "\n",
        "if not os.path.isdir(\"HappyML\"):\n",
        "  os.system(\"git clone https://github.com/cnchi/HappyML.git\")"
      ]
    },
    {
      "cell_type": "markdown",
      "source": [
        "下載資料集 .CSV"
      ],
      "metadata": {
        "id": "QDDljatijASw"
      }
    },
    {
      "cell_type": "code",
      "source": [
        "Dataset_File = 'ToyotaUsedCars.csv'\n",
        "if not os.path.isfile(Dataset_File):\n",
        "  os.system('wget https://raw.githubusercontent.com/cnchi/datasets/master/' + Dataset_File)\n",
        "\n",
        "# dataset = pd.read_csv(\"ToyotaUsedCars.csv\")"
      ],
      "metadata": {
        "id": "4NrJMfi8jD3I"
      },
      "execution_count": null,
      "outputs": []
    },
    {
      "cell_type": "markdown",
      "source": [
        "資料集載入"
      ],
      "metadata": {
        "id": "OMBnDXXLksQZ"
      }
    },
    {
      "cell_type": "code",
      "source": [
        "import HappyML.preprocessor as pp\n",
        "dataset = pp.dataset(file=Dataset_File)"
      ],
      "metadata": {
        "id": "u6-8EWoJjsgW"
      },
      "execution_count": null,
      "outputs": []
    },
    {
      "cell_type": "markdown",
      "source": [
        "切分自變數X與應變數Y"
      ],
      "metadata": {
        "id": "AkEKCpAAmBeh"
      }
    },
    {
      "cell_type": "code",
      "source": [
        "X, Y = pp.decomposition(dataset=dataset, x_columns=[i for i in range(8)], y_columns=[8])"
      ],
      "metadata": {
        "id": "jWbuSksqmFzx"
      },
      "execution_count": null,
      "outputs": []
    },
    {
      "cell_type": "markdown",
      "source": [
        "類別資料數位化"
      ],
      "metadata": {
        "id": "k9zMFAlEmtP6"
      }
    },
    {
      "cell_type": "code",
      "source": [
        "X = pp.onehot_encoder(X, columns=[0, 2, 4], remove_trap=True)"
      ],
      "metadata": {
        "id": "jg1_1_k2mwaA"
      },
      "execution_count": null,
      "outputs": []
    },
    {
      "cell_type": "markdown",
      "source": [
        "切分訓練集、測試集"
      ],
      "metadata": {
        "id": "licDK1YEnGGJ"
      }
    },
    {
      "cell_type": "code",
      "source": [
        "X_train,X_test, Y_train, Y_test = pp.split_train_test(X, Y, train_size = 0.8)"
      ],
      "metadata": {
        "id": "FLht9i4en24j"
      },
      "execution_count": null,
      "outputs": []
    },
    {
      "cell_type": "markdown",
      "source": [
        "特徵縮放"
      ],
      "metadata": {
        "id": "uDl2JLkeoODq"
      }
    },
    {
      "cell_type": "code",
      "source": [
        "X_train, X_test = pp.feature_scaling(fit_ary = X_train, transform_arys=(X_train,X_test))"
      ],
      "metadata": {
        "id": "wQJ-XncUoPym"
      },
      "execution_count": null,
      "outputs": []
    },
    {
      "cell_type": "markdown",
      "source": [
        "建構神經網路各層級"
      ],
      "metadata": {
        "id": "8XJ-aFmYsIEL"
      }
    },
    {
      "cell_type": "code",
      "source": [
        "from tensorflow.keras.models import Sequential\n",
        "from tensorflow.keras.layers import Dense\n",
        "\n",
        "# Add Layers with .add() function\n",
        "model = Sequential()\n",
        "\n",
        "# Using Formula #2, Instance=20640, alpha=5\n",
        "model.add(Dense(input_dim=X_train.shape[1], units=459, kernel_initializer=\"glorot_normal\", activation=\"relu\"))\n",
        "model.add(Dense(units=9, kernel_initializer=\"glorot_normal\", activation=\"relu\"))\n",
        "model.add(Dense(units=1, kernel_initializer=\"glorot_normal\", activation=\"linear\"))"
      ],
      "metadata": {
        "id": "-_zJtSAfsJ88"
      },
      "execution_count": null,
      "outputs": []
    },
    {
      "cell_type": "markdown",
      "source": [
        "神經網路編譯"
      ],
      "metadata": {
        "id": "mDPuvdBksbI1"
      }
    },
    {
      "cell_type": "code",
      "source": [
        "model.compile(optimizer=\"adam\", loss=\"mse\", metrics=[\"mse\"])"
      ],
      "metadata": {
        "id": "WByYHoPmsbsq"
      },
      "execution_count": null,
      "outputs": []
    },
    {
      "cell_type": "markdown",
      "source": [
        "模型訓練"
      ],
      "metadata": {
        "id": "W6XoB-Lysf_V"
      }
    },
    {
      "cell_type": "code",
      "source": [
        "epochs_metrics = model.fit(x=X_train, y=Y_train, validation_split=0.2, batch_size=5, epochs=30)"
      ],
      "metadata": {
        "colab": {
          "base_uri": "https://localhost:8080/"
        },
        "id": "gcAtNAq_sgWb",
        "outputId": "43c26bc3-77d8-4c1f-8cd1-bb302d37999f"
      },
      "execution_count": null,
      "outputs": [
        {
          "output_type": "stream",
          "name": "stdout",
          "text": [
            "Epoch 1/30\n",
            "863/863 [==============================] - 10s 5ms/step - loss: 139828496.0000 - mse: 139828496.0000 - val_loss: 40601528.0000 - val_mse: 40601528.0000\n",
            "Epoch 2/30\n",
            "863/863 [==============================] - 3s 4ms/step - loss: 14817432.0000 - mse: 14817432.0000 - val_loss: 10897649.0000 - val_mse: 10897649.0000\n",
            "Epoch 3/30\n",
            "863/863 [==============================] - 3s 4ms/step - loss: 7417908.0000 - mse: 7417908.0000 - val_loss: 7571641.0000 - val_mse: 7571641.0000\n",
            "Epoch 4/30\n",
            "863/863 [==============================] - 4s 4ms/step - loss: 5615219.0000 - mse: 5615219.0000 - val_loss: 6107226.0000 - val_mse: 6107226.0000\n",
            "Epoch 5/30\n",
            "863/863 [==============================] - 4s 4ms/step - loss: 4760851.0000 - mse: 4760851.0000 - val_loss: 5361811.5000 - val_mse: 5361811.5000\n",
            "Epoch 6/30\n",
            "863/863 [==============================] - 3s 4ms/step - loss: 4283957.5000 - mse: 4283957.0000 - val_loss: 4811749.0000 - val_mse: 4811749.0000\n",
            "Epoch 7/30\n",
            "863/863 [==============================] - 3s 4ms/step - loss: 3932976.5000 - mse: 3932976.5000 - val_loss: 4451818.0000 - val_mse: 4451818.0000\n",
            "Epoch 8/30\n",
            "863/863 [==============================] - 4s 5ms/step - loss: 3674394.5000 - mse: 3674394.5000 - val_loss: 4253288.0000 - val_mse: 4253288.0000\n",
            "Epoch 9/30\n",
            "863/863 [==============================] - 3s 4ms/step - loss: 3514149.7500 - mse: 3514149.7500 - val_loss: 4076797.2500 - val_mse: 4076797.2500\n",
            "Epoch 10/30\n",
            "863/863 [==============================] - 3s 4ms/step - loss: 3380026.7500 - mse: 3380026.7500 - val_loss: 3975728.0000 - val_mse: 3975728.0000\n",
            "Epoch 11/30\n",
            "863/863 [==============================] - 4s 4ms/step - loss: 3283239.7500 - mse: 3283239.7500 - val_loss: 3865239.0000 - val_mse: 3865239.0000\n",
            "Epoch 12/30\n",
            "863/863 [==============================] - 4s 4ms/step - loss: 3201129.0000 - mse: 3201129.0000 - val_loss: 3796677.7500 - val_mse: 3796677.7500\n",
            "Epoch 13/30\n",
            "863/863 [==============================] - 4s 4ms/step - loss: 3125085.0000 - mse: 3125085.0000 - val_loss: 3667570.0000 - val_mse: 3667570.2500\n",
            "Epoch 14/30\n",
            "863/863 [==============================] - 4s 4ms/step - loss: 3045829.2500 - mse: 3045828.7500 - val_loss: 3540303.5000 - val_mse: 3540303.2500\n",
            "Epoch 15/30\n",
            "863/863 [==============================] - 4s 5ms/step - loss: 2942129.0000 - mse: 2942129.0000 - val_loss: 3442782.2500 - val_mse: 3442782.2500\n",
            "Epoch 16/30\n",
            "863/863 [==============================] - 4s 4ms/step - loss: 2857655.2500 - mse: 2857655.2500 - val_loss: 3276537.5000 - val_mse: 3276537.5000\n",
            "Epoch 17/30\n",
            "863/863 [==============================] - 3s 4ms/step - loss: 2745304.0000 - mse: 2745304.0000 - val_loss: 3161533.7500 - val_mse: 3161533.7500\n",
            "Epoch 18/30\n",
            "863/863 [==============================] - 4s 5ms/step - loss: 2646380.7500 - mse: 2646380.7500 - val_loss: 3031256.5000 - val_mse: 3031256.5000\n",
            "Epoch 19/30\n",
            "863/863 [==============================] - 3s 4ms/step - loss: 2554225.5000 - mse: 2554225.5000 - val_loss: 2869744.7500 - val_mse: 2869744.7500\n",
            "Epoch 20/30\n",
            "863/863 [==============================] - 3s 4ms/step - loss: 2434117.0000 - mse: 2434117.0000 - val_loss: 2760552.2500 - val_mse: 2760552.2500\n",
            "Epoch 21/30\n",
            "863/863 [==============================] - 3s 4ms/step - loss: 2343306.5000 - mse: 2343306.5000 - val_loss: 2643943.0000 - val_mse: 2643943.0000\n",
            "Epoch 22/30\n",
            "863/863 [==============================] - 4s 5ms/step - loss: 2244255.0000 - mse: 2244255.0000 - val_loss: 2500326.5000 - val_mse: 2500326.5000\n",
            "Epoch 23/30\n",
            "863/863 [==============================] - 4s 4ms/step - loss: 2139526.0000 - mse: 2139526.0000 - val_loss: 2467155.7500 - val_mse: 2467155.7500\n",
            "Epoch 24/30\n",
            "863/863 [==============================] - 4s 4ms/step - loss: 2063905.7500 - mse: 2063905.7500 - val_loss: 2262686.0000 - val_mse: 2262686.0000\n",
            "Epoch 25/30\n",
            "863/863 [==============================] - 4s 5ms/step - loss: 1988409.2500 - mse: 1988409.2500 - val_loss: 2194620.5000 - val_mse: 2194620.5000\n",
            "Epoch 26/30\n",
            "863/863 [==============================] - 4s 4ms/step - loss: 1912458.1250 - mse: 1912458.1250 - val_loss: 2099285.0000 - val_mse: 2099285.0000\n",
            "Epoch 27/30\n",
            "863/863 [==============================] - 3s 4ms/step - loss: 1856783.3750 - mse: 1856783.3750 - val_loss: 2030086.8750 - val_mse: 2030086.8750\n",
            "Epoch 28/30\n",
            "863/863 [==============================] - 4s 4ms/step - loss: 1794571.7500 - mse: 1794571.7500 - val_loss: 2011232.0000 - val_mse: 2011232.0000\n",
            "Epoch 29/30\n",
            "863/863 [==============================] - 4s 5ms/step - loss: 1739833.1250 - mse: 1739833.1250 - val_loss: 1963777.1250 - val_mse: 1963777.1250\n",
            "Epoch 30/30\n",
            "863/863 [==============================] - 4s 4ms/step - loss: 1719428.3750 - mse: 1719428.5000 - val_loss: 1910544.8750 - val_mse: 1910544.8750\n"
          ]
        }
      ]
    },
    {
      "cell_type": "markdown",
      "source": [
        "模型校正"
      ],
      "metadata": {
        "id": "ubsyNsgQtGgH"
      }
    },
    {
      "cell_type": "code",
      "source": [
        "import HappyML.model_drawer as md\n",
        "\n",
        "md.epochs_metrics_plot(epochs_metrics.history, keys=(\"loss\", \"val_loss\"), title=\"Loss of Training vs. Validating\", xyLabel=(\"Epochs\", \"Loss\"))\n",
        "md.epochs_metrics_plot(epochs_metrics.history, keys=(\"mse\", \"val_mse\"), title=\"MSE of Training vs. Validating\", xyLabel=(\"Epochs\", \"MSE\"))"
      ],
      "metadata": {
        "colab": {
          "base_uri": "https://localhost:8080/",
          "height": 927
        },
        "id": "zaZEe3DwtG4W",
        "outputId": "84879083-e650-4cd5-fafe-d1ad72edf5d5"
      },
      "execution_count": null,
      "outputs": [
        {
          "output_type": "display_data",
          "data": {
            "text/plain": [
              "<Figure size 640x480 with 1 Axes>"
            ],
            "image/png": "[encoded data removed]"
          },
          "metadata": {}
        },
        {
          "output_type": "display_data",
          "data": {
            "text/plain": [
              "<Figure size 640x480 with 1 Axes>"
            ],
            "image/png": "[encoded data removed]"
          },
          "metadata": {}
        }
      ]
    },
    {
      "cell_type": "markdown",
      "source": [
        "模型預測"
      ],
      "metadata": {
        "id": "yL9RBMpltj7R"
      }
    },
    {
      "cell_type": "code",
      "source": [
        "# Predict\n",
        "import pandas as pd\n",
        "Y_pred = pd.DataFrame(model.predict(x=X_test), index=Y_test.index, columns=Y_test.columns)\n",
        "\n",
        "# Show the Predict Result\n",
        "df = pd.concat([Y_test, Y_pred], axis=1)\n",
        "print(df)"
      ],
      "metadata": {
        "colab": {
          "base_uri": "https://localhost:8080/"
        },
        "id": "ZrX_lVS8tlLQ",
        "outputId": "f7d950bb-1368-4ba6-e1c3-72852eb6a075"
      },
      "execution_count": null,
      "outputs": [
        {
          "output_type": "stream",
          "name": "stdout",
          "text": [
            "43/43 [==============================] - 0s 3ms/step\n",
            "      price         price\n",
            "502   18490  19324.494141\n",
            "5240   7800   7567.958008\n",
            "4024   9990   9857.704102\n",
            "1889  10995  10107.431641\n",
            "6343  11298  11268.242188\n",
            "...     ...           ...\n",
            "6106  23500  26265.332031\n",
            "2902  13795  15448.910156\n",
            "4589  12000   9947.314453\n",
            "2780   8990   7347.504395\n",
            "3330  14995  13673.347656\n",
            "\n",
            "[1348 rows x 2 columns]\n"
          ]
        }
      ]
    },
    {
      "cell_type": "markdown",
      "source": [
        "模型評估"
      ],
      "metadata": {
        "id": "WE3LjLbEt08L"
      }
    },
    {
      "cell_type": "code",
      "source": [
        "test_loss, test_mse = model.evaluate(X_test, Y_test)\n",
        "print(\"Loss of Testing Set:\", test_loss)\n",
        "print(\"MSE of Testing Set:\", test_mse)"
      ],
      "metadata": {
        "colab": {
          "base_uri": "https://localhost:8080/"
        },
        "id": "Ly-jTUM6t3Mf",
        "outputId": "ef13e1b7-d8c1-40e2-bb34-65745cbd6094"
      },
      "execution_count": null,
      "outputs": [
        {
          "output_type": "stream",
          "name": "stdout",
          "text": [
            "43/43 [==============================] - 0s 2ms/step - loss: 1578500.2500 - mse: 1578500.2500\n",
            "Loss of Testing Set: 1578500.25\n",
            "MSE of Testing Set: 1578500.25\n"
          ]
        }
      ]
    }
  ]
}