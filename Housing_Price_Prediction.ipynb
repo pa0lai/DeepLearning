{
  "nbformat": 4,
  "nbformat_minor": 0,
  "metadata": {
    "colab": {
      "provenance": [],
      "gpuType": "T4",
      "authorship_tag": "ABX9TyPy8ARPu6dMwzP7LPdxLECz",
      "include_colab_link": true
    },
    "kernelspec": {
      "name": "python3",
      "display_name": "Python 3"
    },
    "language_info": {
      "name": "python"
    },
    "accelerator": "GPU"
  },
  "cells": [
    {
      "cell_type": "markdown",
      "metadata": {
        "id": "view-in-github",
        "colab_type": "text"
      },
      "source": [
        "<a href=\"https://colab.research.google.com/github/pa0lai/DeepLearning/blob/main/Housing_Price_Prediction.ipynb\" target=\"_parent\"><img src=\"https://colab.research.google.com/assets/colab-badge.svg\" alt=\"Open In Colab\"/></a>"
      ]
    },
    {
      "cell_type": "markdown",
      "source": [
        "安裝快樂版函式庫\n"
      ],
      "metadata": {
        "id": "5wBsBXtRIINF"
      }
    },
    {
      "cell_type": "code",
      "execution_count": null,
      "metadata": {
        "id": "3f8zyWitGGz6"
      },
      "outputs": [],
      "source": [
        "# 先檢查是否存在 HappyML 這個資料夾，若沒有，則下載\n",
        "import os\n",
        "\n",
        "if not os.path.isdir(\"HappyML\"):\n",
        "  os.system(\"git clone https://github.com/cnchi/HappyML.git\")"
      ]
    },
    {
      "cell_type": "markdown",
      "source": [
        "資料前處理"
      ],
      "metadata": {
        "id": "ObUAH-0yKBIU"
      }
    },
    {
      "cell_type": "markdown",
      "source": [
        "載入資料"
      ],
      "metadata": {
        "id": "7COJlY9NKDtm"
      }
    },
    {
      "cell_type": "code",
      "source": [
        "from sklearn.datasets import fetch_california_housing\n",
        "dataset = fetch_california_housing()"
      ],
      "metadata": {
        "id": "L2R5RosJKDVc"
      },
      "execution_count": null,
      "outputs": []
    },
    {
      "cell_type": "code",
      "source": [
        "print(dataset)  #：列出 dataset 有哪些東⻄\n",
        "# print(dataset.keys())#：可以列出 dataset 有哪些欄位\n",
        "# print(dataset[\"DESCR\"])#：漂亮列出 dataset 的說明\n",
        "# print(dataset[\"data\"])#：列出自變數 X 資料的大致情況\n",
        "# print(dataset[\"target\"])#：列出應變數 Y 資料的大致情況\n",
        "# print(dataset[\"feature_names\"])#：印出自變數 X 所有欄位名稱"
      ],
      "metadata": {
        "colab": {
          "base_uri": "https://localhost:8080/"
        },
        "id": "oUq8WurhKX_k",
        "outputId": "a5ce778e-8546-4755-db20-78c1fc19403b"
      },
      "execution_count": null,
      "outputs": [
        {
          "output_type": "stream",
          "name": "stdout",
          "text": [
            "{'data': array([[   8.3252    ,   41.        ,    6.98412698, ...,    2.55555556,\n",
            "          37.88      , -122.23      ],\n",
            "       [   8.3014    ,   21.        ,    6.23813708, ...,    2.10984183,\n",
            "          37.86      , -122.22      ],\n",
            "       [   7.2574    ,   52.        ,    8.28813559, ...,    2.80225989,\n",
            "          37.85      , -122.24      ],\n",
            "       ...,\n",
            "       [   1.7       ,   17.        ,    5.20554273, ...,    2.3256351 ,\n",
            "          39.43      , -121.22      ],\n",
            "       [   1.8672    ,   18.        ,    5.32951289, ...,    2.12320917,\n",
            "          39.43      , -121.32      ],\n",
            "       [   2.3886    ,   16.        ,    5.25471698, ...,    2.61698113,\n",
            "          39.37      , -121.24      ]]), 'target': array([4.526, 3.585, 3.521, ..., 0.923, 0.847, 0.894]), 'frame': None, 'target_names': ['MedHouseVal'], 'feature_names': ['MedInc', 'HouseAge', 'AveRooms', 'AveBedrms', 'Population', 'AveOccup', 'Latitude', 'Longitude'], 'DESCR': '.. _california_housing_dataset:\\n\\nCalifornia Housing dataset\\n--------------------------\\n\\n**Data Set Characteristics:**\\n\\n    :Number of Instances: 20640\\n\\n    :Number of Attributes: 8 numeric, predictive attributes and the target\\n\\n    :Attribute Information:\\n        - MedInc        median income in block group\\n        - HouseAge      median house age in block group\\n        - AveRooms      average number of rooms per household\\n        - AveBedrms     average number of bedrooms per household\\n        - Population    block group population\\n        - AveOccup      average number of household members\\n        - Latitude      block group latitude\\n        - Longitude     block group longitude\\n\\n    :Missing Attribute Values: None\\n\\nThis dataset was obtained from the StatLib repository.\\nhttps://www.dcc.fc.up.pt/~ltorgo/Regression/cal_housing.html\\n\\nThe target variable is the median house value for California districts,\\nexpressed in hundreds of thousands of dollars ($100,000).\\n\\nThis dataset was derived from the 1990 U.S. census, using one row per census\\nblock group. A block group is the smallest geographical unit for which the U.S.\\nCensus Bureau publishes sample data (a block group typically has a population\\nof 600 to 3,000 people).\\n\\nA household is a group of people residing within a home. Since the average\\nnumber of rooms and bedrooms in this dataset are provided per household, these\\ncolumns may take surprisingly large values for block groups with few households\\nand many empty houses, such as vacation resorts.\\n\\nIt can be downloaded/loaded using the\\n:func:`sklearn.datasets.fetch_california_housing` function.\\n\\n.. topic:: References\\n\\n    - Pace, R. Kelley and Ronald Barry, Sparse Spatial Autoregressions,\\n      Statistics and Probability Letters, 33 (1997) 291-297\\n'}\n"
          ]
        }
      ]
    },
    {
      "cell_type": "markdown",
      "source": [
        "切分自變數與應變數"
      ],
      "metadata": {
        "id": "8v6DcpAJLyvz"
      }
    },
    {
      "cell_type": "code",
      "source": [
        "import HappyML.preprocessor as pp\n",
        "\n",
        "# Decomposition\n",
        "import pandas as pd\n",
        "X = pd.DataFrame(dataset.data, columns=dataset.feature_names)\n",
        "Y = pd.DataFrame(dataset.target, columns=[\"Price\"])\n",
        "\n"
      ],
      "metadata": {
        "colab": {
          "base_uri": "https://localhost:8080/",
          "height": 424
        },
        "id": "O_wn3upbL2qi",
        "outputId": "46c3df33-1c71-4643-c9ab-1c9e69080488"
      },
      "execution_count": null,
      "outputs": [
        {
          "output_type": "execute_result",
          "data": {
            "text/plain": [
              "       MedInc  HouseAge  AveRooms  AveBedrms  Population  AveOccup  Latitude  \\\n",
              "0      8.3252      41.0  6.984127   1.023810       322.0  2.555556     37.88   \n",
              "1      8.3014      21.0  6.238137   0.971880      2401.0  2.109842     37.86   \n",
              "2      7.2574      52.0  8.288136   1.073446       496.0  2.802260     37.85   \n",
              "3      5.6431      52.0  5.817352   1.073059       558.0  2.547945     37.85   \n",
              "4      3.8462      52.0  6.281853   1.081081       565.0  2.181467     37.85   \n",
              "...       ...       ...       ...        ...         ...       ...       ...   \n",
              "20635  1.5603      25.0  5.045455   1.133333       845.0  2.560606     39.48   \n",
              "20636  2.5568      18.0  6.114035   1.315789       356.0  3.122807     39.49   \n",
              "20637  1.7000      17.0  5.205543   1.120092      1007.0  2.325635     39.43   \n",
              "20638  1.8672      18.0  5.329513   1.171920       741.0  2.123209     39.43   \n",
              "20639  2.3886      16.0  5.254717   1.162264      1387.0  2.616981     39.37   \n",
              "\n",
              "       Longitude  \n",
              "0        -122.23  \n",
              "1        -122.22  \n",
              "2        -122.24  \n",
              "3        -122.25  \n",
              "4        -122.25  \n",
              "...          ...  \n",
              "20635    -121.09  \n",
              "20636    -121.21  \n",
              "20637    -121.22  \n",
              "20638    -121.32  \n",
              "20639    -121.24  \n",
              "\n",
              "[20640 rows x 8 columns]"
            ],
            "text/html": [
              "\n",
              "  <div id=\"df-cdfb867b-6539-47f3-9102-4bb85cec40de\" class=\"colab-df-container\">\n",
              "    <div>\n",
              "<style scoped>\n",
              "    .dataframe tbody tr th:only-of-type {\n",
              "        vertical-align: middle;\n",
              "    }\n",
              "\n",
              "    .dataframe tbody tr th {\n",
              "        vertical-align: top;\n",
              "    }\n",
              "\n",
              "    .dataframe thead th {\n",
              "        text-align: right;\n",
              "    }\n",
              "</style>\n",
              "<table border=\"1\" class=\"dataframe\">\n",
              "  <thead>\n",
              "    <tr style=\"text-align: right;\">\n",
              "      <th></th>\n",
              "      <th>MedInc</th>\n",
              "      <th>HouseAge</th>\n",
              "      <th>AveRooms</th>\n",
              "      <th>AveBedrms</th>\n",
              "      <th>Population</th>\n",
              "      <th>AveOccup</th>\n",
              "      <th>Latitude</th>\n",
              "      <th>Longitude</th>\n",
              "    </tr>\n",
              "  </thead>\n",
              "  <tbody>\n",
              "    <tr>\n",
              "      <th>0</th>\n",
              "      <td>8.3252</td>\n",
              "      <td>41.0</td>\n",
              "      <td>6.984127</td>\n",
              "      <td>1.023810</td>\n",
              "      <td>322.0</td>\n",
              "      <td>2.555556</td>\n",
              "      <td>37.88</td>\n",
              "      <td>-122.23</td>\n",
              "    </tr>\n",
              "    <tr>\n",
              "      <th>1</th>\n",
              "      <td>8.3014</td>\n",
              "      <td>21.0</td>\n",
              "      <td>6.238137</td>\n",
              "      <td>0.971880</td>\n",
              "      <td>2401.0</td>\n",
              "      <td>2.109842</td>\n",
              "      <td>37.86</td>\n",
              "      <td>-122.22</td>\n",
              "    </tr>\n",
              "    <tr>\n",
              "      <th>2</th>\n",
              "      <td>7.2574</td>\n",
              "      <td>52.0</td>\n",
              "      <td>8.288136</td>\n",
              "      <td>1.073446</td>\n",
              "      <td>496.0</td>\n",
              "      <td>2.802260</td>\n",
              "      <td>37.85</td>\n",
              "      <td>-122.24</td>\n",
              "    </tr>\n",
              "    <tr>\n",
              "      <th>3</th>\n",
              "      <td>5.6431</td>\n",
              "      <td>52.0</td>\n",
              "      <td>5.817352</td>\n",
              "      <td>1.073059</td>\n",
              "      <td>558.0</td>\n",
              "      <td>2.547945</td>\n",
              "      <td>37.85</td>\n",
              "      <td>-122.25</td>\n",
              "    </tr>\n",
              "    <tr>\n",
              "      <th>4</th>\n",
              "      <td>3.8462</td>\n",
              "      <td>52.0</td>\n",
              "      <td>6.281853</td>\n",
              "      <td>1.081081</td>\n",
              "      <td>565.0</td>\n",
              "      <td>2.181467</td>\n",
              "      <td>37.85</td>\n",
              "      <td>-122.25</td>\n",
              "    </tr>\n",
              "    <tr>\n",
              "      <th>...</th>\n",
              "      <td>...</td>\n",
              "      <td>...</td>\n",
              "      <td>...</td>\n",
              "      <td>...</td>\n",
              "      <td>...</td>\n",
              "      <td>...</td>\n",
              "      <td>...</td>\n",
              "      <td>...</td>\n",
              "    </tr>\n",
              "    <tr>\n",
              "      <th>20635</th>\n",
              "      <td>1.5603</td>\n",
              "      <td>25.0</td>\n",
              "      <td>5.045455</td>\n",
              "      <td>1.133333</td>\n",
              "      <td>845.0</td>\n",
              "      <td>2.560606</td>\n",
              "      <td>39.48</td>\n",
              "      <td>-121.09</td>\n",
              "    </tr>\n",
              "    <tr>\n",
              "      <th>20636</th>\n",
              "      <td>2.5568</td>\n",
              "      <td>18.0</td>\n",
              "      <td>6.114035</td>\n",
              "      <td>1.315789</td>\n",
              "      <td>356.0</td>\n",
              "      <td>3.122807</td>\n",
              "      <td>39.49</td>\n",
              "      <td>-121.21</td>\n",
              "    </tr>\n",
              "    <tr>\n",
              "      <th>20637</th>\n",
              "      <td>1.7000</td>\n",
              "      <td>17.0</td>\n",
              "      <td>5.205543</td>\n",
              "      <td>1.120092</td>\n",
              "      <td>1007.0</td>\n",
              "      <td>2.325635</td>\n",
              "      <td>39.43</td>\n",
              "      <td>-121.22</td>\n",
              "    </tr>\n",
              "    <tr>\n",
              "      <th>20638</th>\n",
              "      <td>1.8672</td>\n",
              "      <td>18.0</td>\n",
              "      <td>5.329513</td>\n",
              "      <td>1.171920</td>\n",
              "      <td>741.0</td>\n",
              "      <td>2.123209</td>\n",
              "      <td>39.43</td>\n",
              "      <td>-121.32</td>\n",
              "    </tr>\n",
              "    <tr>\n",
              "      <th>20639</th>\n",
              "      <td>2.3886</td>\n",
              "      <td>16.0</td>\n",
              "      <td>5.254717</td>\n",
              "      <td>1.162264</td>\n",
              "      <td>1387.0</td>\n",
              "      <td>2.616981</td>\n",
              "      <td>39.37</td>\n",
              "      <td>-121.24</td>\n",
              "    </tr>\n",
              "  </tbody>\n",
              "</table>\n",
              "<p>20640 rows × 8 columns</p>\n",
              "</div>\n",
              "    <div class=\"colab-df-buttons\">\n",
              "\n",
              "  <div class=\"colab-df-container\">\n",
              "    <button class=\"colab-df-convert\" onclick=\"convertToInteractive('df-cdfb867b-6539-47f3-9102-4bb85cec40de')\"\n",
              "            title=\"Convert this dataframe to an interactive table.\"\n",
              "            style=\"display:none;\">\n",
              "\n",
              "  <svg xmlns=\"http://www.w3.org/2000/svg\" height=\"24px\" viewBox=\"0 -960 960 960\">\n",
              "    <path d=\"M120-120v-720h720v720H120Zm60-500h600v-160H180v160Zm220 220h160v-160H400v160Zm0 220h160v-160H400v160ZM180-400h160v-160H180v160Zm440 0h160v-160H620v160ZM180-180h160v-160H180v160Zm440 0h160v-160H620v160Z\"/>\n",
              "  </svg>\n",
              "    </button>\n",
              "\n",
              "  <style>\n",
              "    .colab-df-container {\n",
              "      display:flex;\n",
              "      gap: 12px;\n",
              "    }\n",
              "\n",
              "    .colab-df-convert {\n",
              "      background-color: #E8F0FE;\n",
              "      border: none;\n",
              "      border-radius: 50%;\n",
              "      cursor: pointer;\n",
              "      display: none;\n",
              "      fill: #1967D2;\n",
              "      height: 32px;\n",
              "      padding: 0 0 0 0;\n",
              "      width: 32px;\n",
              "    }\n",
              "\n",
              "    .colab-df-convert:hover {\n",
              "      background-color: #E2EBFA;\n",
              "      box-shadow: 0px 1px 2px rgba(60, 64, 67, 0.3), 0px 1px 3px 1px rgba(60, 64, 67, 0.15);\n",
              "      fill: #174EA6;\n",
              "    }\n",
              "\n",
              "    .colab-df-buttons div {\n",
              "      margin-bottom: 4px;\n",
              "    }\n",
              "\n",
              "    [theme=dark] .colab-df-convert {\n",
              "      background-color: #3B4455;\n",
              "      fill: #D2E3FC;\n",
              "    }\n",
              "\n",
              "    [theme=dark] .colab-df-convert:hover {\n",
              "      background-color: #434B5C;\n",
              "      box-shadow: 0px 1px 3px 1px rgba(0, 0, 0, 0.15);\n",
              "      filter: drop-shadow(0px 1px 2px rgba(0, 0, 0, 0.3));\n",
              "      fill: #FFFFFF;\n",
              "    }\n",
              "  </style>\n",
              "\n",
              "    <script>\n",
              "      const buttonEl =\n",
              "        document.querySelector('#df-cdfb867b-6539-47f3-9102-4bb85cec40de button.colab-df-convert');\n",
              "      buttonEl.style.display =\n",
              "        google.colab.kernel.accessAllowed ? 'block' : 'none';\n",
              "\n",
              "      async function convertToInteractive(key) {\n",
              "        const element = document.querySelector('#df-cdfb867b-6539-47f3-9102-4bb85cec40de');\n",
              "        const dataTable =\n",
              "          await google.colab.kernel.invokeFunction('convertToInteractive',\n",
              "                                                    [key], {});\n",
              "        if (!dataTable) return;\n",
              "\n",
              "        const docLinkHtml = 'Like what you see? Visit the ' +\n",
              "          '<a target=\"_blank\" href=https://colab.research.google.com/notebooks/data_table.ipynb>data table notebook</a>'\n",
              "          + ' to learn more about interactive tables.';\n",
              "        element.innerHTML = '';\n",
              "        dataTable['output_type'] = 'display_data';\n",
              "        await google.colab.output.renderOutput(dataTable, element);\n",
              "        const docLink = document.createElement('div');\n",
              "        docLink.innerHTML = docLinkHtml;\n",
              "        element.appendChild(docLink);\n",
              "      }\n",
              "    </script>\n",
              "  </div>\n",
              "\n",
              "\n",
              "<div id=\"df-c63f6699-e76b-4a18-ac81-5398ee41e132\">\n",
              "  <button class=\"colab-df-quickchart\" onclick=\"quickchart('df-c63f6699-e76b-4a18-ac81-5398ee41e132')\"\n",
              "            title=\"Suggest charts.\"\n",
              "            style=\"display:none;\">\n",
              "\n",
              "<svg xmlns=\"http://www.w3.org/2000/svg\" height=\"24px\"viewBox=\"0 0 24 24\"\n",
              "     width=\"24px\">\n",
              "    <g>\n",
              "        <path d=\"M19 3H5c-1.1 0-2 .9-2 2v14c0 1.1.9 2 2 2h14c1.1 0 2-.9 2-2V5c0-1.1-.9-2-2-2zM9 17H7v-7h2v7zm4 0h-2V7h2v10zm4 0h-2v-4h2v4z\"/>\n",
              "    </g>\n",
              "</svg>\n",
              "  </button>\n",
              "\n",
              "<style>\n",
              "  .colab-df-quickchart {\n",
              "      --bg-color: #E8F0FE;\n",
              "      --fill-color: #1967D2;\n",
              "      --hover-bg-color: #E2EBFA;\n",
              "      --hover-fill-color: #174EA6;\n",
              "      --disabled-fill-color: #AAA;\n",
              "      --disabled-bg-color: #DDD;\n",
              "  }\n",
              "\n",
              "  [theme=dark] .colab-df-quickchart {\n",
              "      --bg-color: #3B4455;\n",
              "      --fill-color: #D2E3FC;\n",
              "      --hover-bg-color: #434B5C;\n",
              "      --hover-fill-color: #FFFFFF;\n",
              "      --disabled-bg-color: #3B4455;\n",
              "      --disabled-fill-color: #666;\n",
              "  }\n",
              "\n",
              "  .colab-df-quickchart {\n",
              "    background-color: var(--bg-color);\n",
              "    border: none;\n",
              "    border-radius: 50%;\n",
              "    cursor: pointer;\n",
              "    display: none;\n",
              "    fill: var(--fill-color);\n",
              "    height: 32px;\n",
              "    padding: 0;\n",
              "    width: 32px;\n",
              "  }\n",
              "\n",
              "  .colab-df-quickchart:hover {\n",
              "    background-color: var(--hover-bg-color);\n",
              "    box-shadow: 0 1px 2px rgba(60, 64, 67, 0.3), 0 1px 3px 1px rgba(60, 64, 67, 0.15);\n",
              "    fill: var(--button-hover-fill-color);\n",
              "  }\n",
              "\n",
              "  .colab-df-quickchart-complete:disabled,\n",
              "  .colab-df-quickchart-complete:disabled:hover {\n",
              "    background-color: var(--disabled-bg-color);\n",
              "    fill: var(--disabled-fill-color);\n",
              "    box-shadow: none;\n",
              "  }\n",
              "\n",
              "  .colab-df-spinner {\n",
              "    border: 2px solid var(--fill-color);\n",
              "    border-color: transparent;\n",
              "    border-bottom-color: var(--fill-color);\n",
              "    animation:\n",
              "      spin 1s steps(1) infinite;\n",
              "  }\n",
              "\n",
              "  @keyframes spin {\n",
              "    0% {\n",
              "      border-color: transparent;\n",
              "      border-bottom-color: var(--fill-color);\n",
              "      border-left-color: var(--fill-color);\n",
              "    }\n",
              "    20% {\n",
              "      border-color: transparent;\n",
              "      border-left-color: var(--fill-color);\n",
              "      border-top-color: var(--fill-color);\n",
              "    }\n",
              "    30% {\n",
              "      border-color: transparent;\n",
              "      border-left-color: var(--fill-color);\n",
              "      border-top-color: var(--fill-color);\n",
              "      border-right-color: var(--fill-color);\n",
              "    }\n",
              "    40% {\n",
              "      border-color: transparent;\n",
              "      border-right-color: var(--fill-color);\n",
              "      border-top-color: var(--fill-color);\n",
              "    }\n",
              "    60% {\n",
              "      border-color: transparent;\n",
              "      border-right-color: var(--fill-color);\n",
              "    }\n",
              "    80% {\n",
              "      border-color: transparent;\n",
              "      border-right-color: var(--fill-color);\n",
              "      border-bottom-color: var(--fill-color);\n",
              "    }\n",
              "    90% {\n",
              "      border-color: transparent;\n",
              "      border-bottom-color: var(--fill-color);\n",
              "    }\n",
              "  }\n",
              "</style>\n",
              "\n",
              "  <script>\n",
              "    async function quickchart(key) {\n",
              "      const quickchartButtonEl =\n",
              "        document.querySelector('#' + key + ' button');\n",
              "      quickchartButtonEl.disabled = true;  // To prevent multiple clicks.\n",
              "      quickchartButtonEl.classList.add('colab-df-spinner');\n",
              "      try {\n",
              "        const charts = await google.colab.kernel.invokeFunction(\n",
              "            'suggestCharts', [key], {});\n",
              "      } catch (error) {\n",
              "        console.error('Error during call to suggestCharts:', error);\n",
              "      }\n",
              "      quickchartButtonEl.classList.remove('colab-df-spinner');\n",
              "      quickchartButtonEl.classList.add('colab-df-quickchart-complete');\n",
              "    }\n",
              "    (() => {\n",
              "      let quickchartButtonEl =\n",
              "        document.querySelector('#df-c63f6699-e76b-4a18-ac81-5398ee41e132 button');\n",
              "      quickchartButtonEl.style.display =\n",
              "        google.colab.kernel.accessAllowed ? 'block' : 'none';\n",
              "    })();\n",
              "  </script>\n",
              "</div>\n",
              "    </div>\n",
              "  </div>\n"
            ]
          },
          "metadata": {},
          "execution_count": 11
        }
      ]
    },
    {
      "cell_type": "markdown",
      "source": [
        "切分訓練集、測試集與特徵縮放"
      ],
      "metadata": {
        "id": "iCt0eR_LN9s6"
      }
    },
    {
      "cell_type": "code",
      "source": [
        "# Split Training vs. Testing Data\n",
        "X_train, X_test, Y_train, Y_test = pp.split_train_test(X, Y, train_size=0.8)\n",
        "\n",
        "# Feature Scaling (Optional)\n",
        "X_train, X_test = pp.feature_scaling(fit_ary=X_train, transform_arys=(X_train, X_test))"
      ],
      "metadata": {
        "id": "SpqL518KOC42"
      },
      "execution_count": null,
      "outputs": []
    },
    {
      "cell_type": "markdown",
      "source": [
        "建構神經網路各層級"
      ],
      "metadata": {
        "id": "coKM-SlYWFHx"
      }
    },
    {
      "cell_type": "code",
      "source": [
        "from tensorflow.keras.models import Sequential\n",
        "from tensorflow.keras.layers import Dense\n",
        "\n",
        "# Add Layers with .add() function\n",
        "model = Sequential()\n",
        "\n",
        "# Using Formula #2, Instance=20640, alpha=5\n",
        "model.add(Dense(input_dim=X_train.shape[1], units=459, kernel_initializer=\"glorot_normal\", activation=\"relu\"))\n",
        "model.add(Dense(units=9, kernel_initializer=\"glorot_normal\", activation=\"relu\"))\n",
        "model.add(Dense(units=1, kernel_initializer=\"glorot_normal\", activation=\"linear\"))"
      ],
      "metadata": {
        "id": "9kCVa1piWGCW"
      },
      "execution_count": null,
      "outputs": []
    },
    {
      "cell_type": "markdown",
      "source": [
        "神經網路編譯"
      ],
      "metadata": {
        "id": "3pRZkPYvZQQE"
      }
    },
    {
      "cell_type": "code",
      "source": [
        "model.compile(optimizer=\"adam\", loss=\"mse\", metrics=[\"mse\"])"
      ],
      "metadata": {
        "id": "Rue1B6y_ZSgl"
      },
      "execution_count": null,
      "outputs": []
    },
    {
      "cell_type": "markdown",
      "source": [
        "模型訓練"
      ],
      "metadata": {
        "id": "TMSayECGcHQz"
      }
    },
    {
      "cell_type": "code",
      "source": [
        "epochs_metrics = model.fit(x=X_train, y=Y_train, validation_split=0.2, batch_size=5, epochs=30)"
      ],
      "metadata": {
        "colab": {
          "base_uri": "https://localhost:8080/"
        },
        "id": "OZmWx0C4cH0b",
        "outputId": "a4e7b1ea-8fad-4c30-dfb8-5afa2bdaf5f1"
      },
      "execution_count": null,
      "outputs": [
        {
          "output_type": "stream",
          "name": "stdout",
          "text": [
            "Epoch 1/30\n",
            "2642/2642 [==============================] - 9s 4ms/step - loss: 0.2329 - mse: 0.2329 - val_loss: 0.2654 - val_mse: 0.2654\n",
            "Epoch 2/30\n",
            "2642/2642 [==============================] - 10s 4ms/step - loss: 0.2298 - mse: 0.2298 - val_loss: 0.2693 - val_mse: 0.2693\n",
            "Epoch 3/30\n",
            "2642/2642 [==============================] - 10s 4ms/step - loss: 0.2298 - mse: 0.2298 - val_loss: 0.2621 - val_mse: 0.2621\n",
            "Epoch 4/30\n",
            "2642/2642 [==============================] - 9s 4ms/step - loss: 0.2300 - mse: 0.2300 - val_loss: 0.2936 - val_mse: 0.2936\n",
            "Epoch 5/30\n",
            "2642/2642 [==============================] - 9s 3ms/step - loss: 0.2273 - mse: 0.2273 - val_loss: 0.2747 - val_mse: 0.2747\n",
            "Epoch 6/30\n",
            "2642/2642 [==============================] - 10s 4ms/step - loss: 0.2273 - mse: 0.2273 - val_loss: 0.2631 - val_mse: 0.2631\n",
            "Epoch 7/30\n",
            "2642/2642 [==============================] - 10s 4ms/step - loss: 0.2313 - mse: 0.2313 - val_loss: 0.2618 - val_mse: 0.2618\n",
            "Epoch 8/30\n",
            "2642/2642 [==============================] - 10s 4ms/step - loss: 0.2277 - mse: 0.2277 - val_loss: 0.2722 - val_mse: 0.2722\n",
            "Epoch 9/30\n",
            "2642/2642 [==============================] - 9s 3ms/step - loss: 0.2274 - mse: 0.2274 - val_loss: 0.2760 - val_mse: 0.2760\n",
            "Epoch 10/30\n",
            "2642/2642 [==============================] - 9s 4ms/step - loss: 0.2269 - mse: 0.2269 - val_loss: 0.2746 - val_mse: 0.2746\n",
            "Epoch 11/30\n",
            "2642/2642 [==============================] - 9s 4ms/step - loss: 0.2238 - mse: 0.2238 - val_loss: 0.2881 - val_mse: 0.2881\n",
            "Epoch 12/30\n",
            "2642/2642 [==============================] - 10s 4ms/step - loss: 0.2253 - mse: 0.2253 - val_loss: 0.2624 - val_mse: 0.2624\n",
            "Epoch 13/30\n",
            "2642/2642 [==============================] - 9s 3ms/step - loss: 0.2244 - mse: 0.2244 - val_loss: 0.2688 - val_mse: 0.2688\n",
            "Epoch 14/30\n",
            "2642/2642 [==============================] - 9s 4ms/step - loss: 0.2251 - mse: 0.2251 - val_loss: 0.2816 - val_mse: 0.2816\n",
            "Epoch 15/30\n",
            "2642/2642 [==============================] - 10s 4ms/step - loss: 0.2229 - mse: 0.2229 - val_loss: 0.2590 - val_mse: 0.2590\n",
            "Epoch 16/30\n",
            "2642/2642 [==============================] - 10s 4ms/step - loss: 0.2235 - mse: 0.2235 - val_loss: 0.2788 - val_mse: 0.2788\n",
            "Epoch 17/30\n",
            "2642/2642 [==============================] - 9s 4ms/step - loss: 0.2239 - mse: 0.2239 - val_loss: 0.2654 - val_mse: 0.2654\n",
            "Epoch 18/30\n",
            "2642/2642 [==============================] - 9s 3ms/step - loss: 0.2189 - mse: 0.2189 - val_loss: 0.2705 - val_mse: 0.2705\n",
            "Epoch 19/30\n",
            "2642/2642 [==============================] - 10s 4ms/step - loss: 0.2233 - mse: 0.2233 - val_loss: 0.2701 - val_mse: 0.2701\n",
            "Epoch 20/30\n",
            "2642/2642 [==============================] - 9s 4ms/step - loss: 0.2231 - mse: 0.2231 - val_loss: 0.2668 - val_mse: 0.2668\n",
            "Epoch 21/30\n",
            "2642/2642 [==============================] - 9s 4ms/step - loss: 0.2196 - mse: 0.2196 - val_loss: 0.2716 - val_mse: 0.2716\n",
            "Epoch 22/30\n",
            "2642/2642 [==============================] - 9s 3ms/step - loss: 0.2204 - mse: 0.2204 - val_loss: 0.2710 - val_mse: 0.2710\n",
            "Epoch 23/30\n",
            "2642/2642 [==============================] - 9s 4ms/step - loss: 0.2198 - mse: 0.2198 - val_loss: 0.2600 - val_mse: 0.2600\n",
            "Epoch 24/30\n",
            "2642/2642 [==============================] - 10s 4ms/step - loss: 0.2207 - mse: 0.2207 - val_loss: 0.2716 - val_mse: 0.2716\n",
            "Epoch 25/30\n",
            "2642/2642 [==============================] - 10s 4ms/step - loss: 0.2179 - mse: 0.2179 - val_loss: 0.2634 - val_mse: 0.2634\n",
            "Epoch 26/30\n",
            "2642/2642 [==============================] - 10s 4ms/step - loss: 0.2161 - mse: 0.2161 - val_loss: 0.2627 - val_mse: 0.2627\n",
            "Epoch 27/30\n",
            "2642/2642 [==============================] - 10s 4ms/step - loss: 0.2201 - mse: 0.2201 - val_loss: 0.2675 - val_mse: 0.2675\n",
            "Epoch 28/30\n",
            "2642/2642 [==============================] - 10s 4ms/step - loss: 0.2182 - mse: 0.2182 - val_loss: 0.2814 - val_mse: 0.2814\n",
            "Epoch 29/30\n",
            "2642/2642 [==============================] - 10s 4ms/step - loss: 0.2177 - mse: 0.2177 - val_loss: 0.2610 - val_mse: 0.2610\n",
            "Epoch 30/30\n",
            "2642/2642 [==============================] - 10s 4ms/step - loss: 0.2167 - mse: 0.2167 - val_loss: 0.2683 - val_mse: 0.2683\n"
          ]
        }
      ]
    },
    {
      "cell_type": "markdown",
      "source": [
        "模型校正"
      ],
      "metadata": {
        "id": "tzw8qrIyjWIw"
      }
    },
    {
      "cell_type": "code",
      "source": [
        "import HappyML.model_drawer as md\n",
        "\n",
        "md.epochs_metrics_plot(epochs_metrics.history, keys=(\"loss\", \"val_loss\"), title=\"Loss of Training vs. Validating\", xyLabel=(\"Epochs\", \"Loss\"))\n",
        "md.epochs_metrics_plot(epochs_metrics.history, keys=(\"mse\", \"val_mse\"), title=\"MSE of Training vs. Validating\", xyLabel=(\"Epochs\", \"MSE\"))"
      ],
      "metadata": {
        "colab": {
          "base_uri": "https://localhost:8080/",
          "height": 927
        },
        "id": "wStgOa6DjYEy",
        "outputId": "3b2ae865-464d-4dd9-e66f-f912a68bae9f"
      },
      "execution_count": null,
      "outputs": [
        {
          "output_type": "display_data",
          "data": {
            "text/plain": [
              "<Figure size 640x480 with 1 Axes>"
            ],
            "image/png": "[encoded data removed]"
          },
          "metadata": {}
        },
        {
          "output_type": "display_data",
          "data": {
            "text/plain": [
              "<Figure size 640x480 with 1 Axes>"
            ],
            "image/png": "[encoded data removed]"
          },
          "metadata": {}
        }
      ]
    },
    {
      "cell_type": "markdown",
      "source": [
        "模型預測"
      ],
      "metadata": {
        "id": "VQVFERONlkEn"
      }
    },
    {
      "cell_type": "code",
      "source": [
        "# Predict\n",
        "import pandas as pd\n",
        "Y_pred = pd.DataFrame(model.predict(x=X_test), index=Y_test.index, columns=Y_test.columns)\n",
        "\n",
        "# Show the Predict Result\n",
        "df = pd.concat([Y_test, Y_pred], axis=1)\n",
        "print(df)"
      ],
      "metadata": {
        "colab": {
          "base_uri": "https://localhost:8080/"
        },
        "id": "oTg0BKizlnJY",
        "outputId": "7ddabe44-4df1-42b9-b06b-7fb8cfa92286"
      },
      "execution_count": null,
      "outputs": [
        {
          "output_type": "stream",
          "name": "stdout",
          "text": [
            "129/129 [==============================] - 0s 1ms/step\n",
            "       Price     Price\n",
            "11476  2.857  2.920925\n",
            "6067   2.621  2.373529\n",
            "2576   0.830  0.868873\n",
            "12203  1.456  1.757346\n",
            "2157   0.899  0.938216\n",
            "...      ...       ...\n",
            "7503   0.933  1.079592\n",
            "16420  1.625  0.805469\n",
            "15449  1.826  2.184546\n",
            "12110  0.953  1.072779\n",
            "16604  1.952  2.072139\n",
            "\n",
            "[4128 rows x 2 columns]\n"
          ]
        }
      ]
    },
    {
      "cell_type": "markdown",
      "source": [
        "模型評估"
      ],
      "metadata": {
        "id": "UoH19J8YnAA2"
      }
    },
    {
      "cell_type": "code",
      "source": [
        "# Evaluation\n",
        "test_loss, test_mse = model.evaluate(X_test, Y_test)\n",
        "print(\"Loss of Testing Set:\", test_loss)\n",
        "print(\"MSE of Testing Set:\", test_mse)"
      ],
      "metadata": {
        "colab": {
          "base_uri": "https://localhost:8080/"
        },
        "id": "G57QkLumnAZB",
        "outputId": "ea3f756e-2b9d-485e-a939-3a4313c93862"
      },
      "execution_count": null,
      "outputs": [
        {
          "output_type": "stream",
          "name": "stdout",
          "text": [
            "129/129 [==============================] - 0s 2ms/step - loss: 0.2782 - mse: 0.2782\n",
            "Loss of Testing Set: 0.2782336473464966\n",
            "MSE of Testing Set: 0.2782336473464966\n"
          ]
        }
      ]
    }
  ]
}