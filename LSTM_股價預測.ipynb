{
  "nbformat": 4,
  "nbformat_minor": 0,
  "metadata": {
    "colab": {
      "provenance": [],
      "gpuType": "T4",
      "authorship_tag": "ABX9TyNDRAVa4x7SgmNrN64dOHkc",
      "include_colab_link": true
    },
    "kernelspec": {
      "name": "python3",
      "display_name": "Python 3"
    },
    "language_info": {
      "name": "python"
    },
    "accelerator": "GPU"
  },
  "cells": [
    {
      "cell_type": "markdown",
      "metadata": {
        "id": "view-in-github",
        "colab_type": "text"
      },
      "source": [
        "<a href=\"https://colab.research.google.com/github/pa0lai/deeplearning/blob/main/LSTM_%E8%82%A1%E5%83%B9%E9%A0%90%E6%B8%AC.ipynb\" target=\"_parent\"><img src=\"https://colab.research.google.com/assets/colab-badge.svg\" alt=\"Open In Colab\"/></a>"
      ]
    },
    {
      "cell_type": "markdown",
      "source": [
        "# 環境設定"
      ],
      "metadata": {
        "id": "ZbBG4cnJgikN"
      }
    },
    {
      "cell_type": "code",
      "execution_count": 7,
      "metadata": {
        "id": "b1JDik7UfEFB"
      },
      "outputs": [],
      "source": [
        "# Install HappyML\n",
        "import os\n",
        "\n",
        "if not os.path.isdir(\"HappyML\"):\n",
        "  os.system(\"git clone https://github.com/cnchi/HappyML.git\")"
      ]
    },
    {
      "cell_type": "code",
      "source": [
        "# Download Dataset\n",
        "Dataset_File = 'TaiwanStockID.csv'\n",
        "\n",
        "if not os.path.isfile(Dataset_File):\n",
        "    os.system('wget https://raw.githubusercontent.com/cnchi/datasets/master/' + Dataset_File)"
      ],
      "metadata": {
        "id": "d5_Yt00-g3bU"
      },
      "execution_count": 8,
      "outputs": []
    },
    {
      "cell_type": "code",
      "source": [
        "# Install Yahoo Finance package\n",
        "!pip install yfinance"
      ],
      "metadata": {
        "colab": {
          "base_uri": "https://localhost:8080/"
        },
        "id": "YD6d2cPWg5yd",
        "outputId": "7e7226d3-c932-40b2-8c9a-b558caa835ab"
      },
      "execution_count": 9,
      "outputs": [
        {
          "output_type": "stream",
          "name": "stdout",
          "text": [
            "Requirement already satisfied: yfinance in /usr/local/lib/python3.10/dist-packages (0.2.31)\n",
            "Requirement already satisfied: pandas>=1.3.0 in /usr/local/lib/python3.10/dist-packages (from yfinance) (1.5.3)\n",
            "Requirement already satisfied: numpy>=1.16.5 in /usr/local/lib/python3.10/dist-packages (from yfinance) (1.23.5)\n",
            "Requirement already satisfied: requests>=2.31 in /usr/local/lib/python3.10/dist-packages (from yfinance) (2.31.0)\n",
            "Requirement already satisfied: multitasking>=0.0.7 in /usr/local/lib/python3.10/dist-packages (from yfinance) (0.0.11)\n",
            "Requirement already satisfied: lxml>=4.9.1 in /usr/local/lib/python3.10/dist-packages (from yfinance) (4.9.3)\n",
            "Requirement already satisfied: appdirs>=1.4.4 in /usr/local/lib/python3.10/dist-packages (from yfinance) (1.4.4)\n",
            "Requirement already satisfied: pytz>=2022.5 in /usr/local/lib/python3.10/dist-packages (from yfinance) (2023.3.post1)\n",
            "Requirement already satisfied: frozendict>=2.3.4 in /usr/local/lib/python3.10/dist-packages (from yfinance) (2.3.8)\n",
            "Requirement already satisfied: peewee>=3.16.2 in /usr/local/lib/python3.10/dist-packages (from yfinance) (3.17.0)\n",
            "Requirement already satisfied: beautifulsoup4>=4.11.1 in /usr/local/lib/python3.10/dist-packages (from yfinance) (4.11.2)\n",
            "Requirement already satisfied: html5lib>=1.1 in /usr/local/lib/python3.10/dist-packages (from yfinance) (1.1)\n",
            "Requirement already satisfied: soupsieve>1.2 in /usr/local/lib/python3.10/dist-packages (from beautifulsoup4>=4.11.1->yfinance) (2.5)\n",
            "Requirement already satisfied: six>=1.9 in /usr/local/lib/python3.10/dist-packages (from html5lib>=1.1->yfinance) (1.16.0)\n",
            "Requirement already satisfied: webencodings in /usr/local/lib/python3.10/dist-packages (from html5lib>=1.1->yfinance) (0.5.1)\n",
            "Requirement already satisfied: python-dateutil>=2.8.1 in /usr/local/lib/python3.10/dist-packages (from pandas>=1.3.0->yfinance) (2.8.2)\n",
            "Requirement already satisfied: charset-normalizer<4,>=2 in /usr/local/lib/python3.10/dist-packages (from requests>=2.31->yfinance) (3.3.2)\n",
            "Requirement already satisfied: idna<4,>=2.5 in /usr/local/lib/python3.10/dist-packages (from requests>=2.31->yfinance) (3.4)\n",
            "Requirement already satisfied: urllib3<3,>=1.21.1 in /usr/local/lib/python3.10/dist-packages (from requests>=2.31->yfinance) (2.0.7)\n",
            "Requirement already satisfied: certifi>=2017.4.17 in /usr/local/lib/python3.10/dist-packages (from requests>=2.31->yfinance) (2023.7.22)\n"
          ]
        }
      ]
    },
    {
      "cell_type": "code",
      "source": [
        "# Chinese Font Settings for Chart Plotting (Colab)\n",
        "from matplotlib.font_manager import FontProperties\n",
        "import matplotlib.pyplot as plt\n",
        "\n",
        "# 用這個方法可以檢查系統有沒有中文字體（空空如也=沒有）\n",
        "!fc-list :lang=zh family\n",
        "\n",
        "# 下載台北思源黑體，並命名taipei_sans_tc_beta.ttf\n",
        "!wget -O taipei_sans_tc_beta.ttf https://drive.google.com/uc?id=1eGAsTN1HBpJAkeVM57_C7ccp7hbgSz3_&export=download\n",
        "# 移至指定路徑\n",
        "!mv taipei_sans_tc_beta.ttf /usr/local/lib/python3.10/dist-packages/matplotlib/mpl-data/fonts/ttf\n",
        "\n",
        "# 自定義字體變數\n",
        "myfont = FontProperties(fname=r'/usr/local/lib/python3.10/dist-packages/matplotlib/mpl-data/fonts/ttf/taipei_sans_tc_beta.ttf')\n",
        "\n",
        "# 後續在相關函式中增加fontproperties=myfont屬性即可。如：plt.xlabel(\"時間\", fontproperties=myfont)"
      ],
      "metadata": {
        "colab": {
          "base_uri": "https://localhost:8080/"
        },
        "id": "V6pQUK8ahCZt",
        "outputId": "c8df8055-fb52-4daa-889a-55f89fa97cff"
      },
      "execution_count": 10,
      "outputs": [
        {
          "output_type": "stream",
          "name": "stdout",
          "text": [
            "--2023-11-28 06:33:49--  https://drive.google.com/uc?id=1eGAsTN1HBpJAkeVM57_C7ccp7hbgSz3_\n",
            "Resolving drive.google.com (drive.google.com)... 74.125.199.101, 74.125.199.102, 74.125.199.139, ...\n",
            "Connecting to drive.google.com (drive.google.com)|74.125.199.101|:443... connected.\n",
            "HTTP request sent, awaiting response... 303 See Other\n",
            "Location: https://doc-0k-9o-docs.googleusercontent.com/docs/securesc/ha0ro937gcuc7l7deffksulhg5h7mbp1/81dcdasnbf8vb87173mcur0249qpjm30/1701153225000/02847987870453524430/*/1eGAsTN1HBpJAkeVM57_C7ccp7hbgSz3_?uuid=c4c565f2-f2df-423f-981e-a8bb5ebe9682 [following]\n",
            "Warning: wildcards not supported in HTTP.\n",
            "--2023-11-28 06:33:53--  https://doc-0k-9o-docs.googleusercontent.com/docs/securesc/ha0ro937gcuc7l7deffksulhg5h7mbp1/81dcdasnbf8vb87173mcur0249qpjm30/1701153225000/02847987870453524430/*/1eGAsTN1HBpJAkeVM57_C7ccp7hbgSz3_?uuid=c4c565f2-f2df-423f-981e-a8bb5ebe9682\n",
            "Resolving doc-0k-9o-docs.googleusercontent.com (doc-0k-9o-docs.googleusercontent.com)... 108.177.98.132, 2607:f8b0:400e:c06::84\n",
            "Connecting to doc-0k-9o-docs.googleusercontent.com (doc-0k-9o-docs.googleusercontent.com)|108.177.98.132|:443... connected.\n",
            "HTTP request sent, awaiting response... 200 OK\n",
            "Length: 20659344 (20M) [application/x-font-ttf]\n",
            "Saving to: ‘taipei_sans_tc_beta.ttf’\n",
            "\n",
            "taipei_sans_tc_beta 100%[===================>]  19.70M  --.-KB/s    in 0.1s    \n",
            "\n",
            "2023-11-28 06:33:54 (136 MB/s) - ‘taipei_sans_tc_beta.ttf’ saved [20659344/20659344]\n",
            "\n"
          ]
        }
      ]
    },
    {
      "cell_type": "code",
      "source": [
        "# Customizable Constants\n",
        "train_size = 0.6\n",
        "val_size = 0.2\n",
        "\n",
        "win_size = 30\n",
        "sample_step = 1\n",
        "win_moving = 1\n",
        "\n",
        "data_batch = 5"
      ],
      "metadata": {
        "id": "1vrPLcwRhEwK"
      },
      "execution_count": 11,
      "outputs": []
    },
    {
      "cell_type": "code",
      "source": [
        "# Import necessary libraries\n",
        "import numpy as np\n",
        "import pandas as pd\n",
        "import matplotlib.pyplot as plt\n",
        "\n",
        "import dateutil.parser as psr\n",
        "\n",
        "import yfinance as yf"
      ],
      "metadata": {
        "id": "-FdDy__ThGUT"
      },
      "execution_count": 12,
      "outputs": []
    },
    {
      "cell_type": "markdown",
      "source": [
        "# 讀入股票漲跌資訊"
      ],
      "metadata": {
        "id": "oEVB5uJ9nZ58"
      }
    },
    {
      "cell_type": "code",
      "source": [
        "stockIDMap = pd.read_csv(\"TaiwanStockID.csv\")\n",
        "\n",
        "stockInput = input(\"請輸入台灣股票名稱、或代號：\")\n",
        "if stockInput.isdigit():\n",
        "    stockID = int(stockInput)\n",
        "    condition = stockIDMap[\"StockID\"] == stockID\n",
        "    stockName = stockIDMap[condition].iloc[0][\"StockName\"]\n",
        "else:\n",
        "    stockName = stockInput\n",
        "    condition = stockIDMap[\"StockName\"] == stockName\n",
        "    stockID = stockIDMap[condition].iloc[0][\"StockID\"]\n",
        "\n",
        "startDate = psr.parse(input(\"請輸入查詢起始日期：\"))\n",
        "endDate = psr.parse(input(\"請輸入查詢截止日期：\"))"
      ],
      "metadata": {
        "colab": {
          "base_uri": "https://localhost:8080/"
        },
        "id": "4_VbmHPhnwnT",
        "outputId": "0c898620-70ed-4938-e982-1e2ff26e1ff0"
      },
      "execution_count": 13,
      "outputs": [
        {
          "name": "stdout",
          "output_type": "stream",
          "text": [
            "請輸入台灣股票名稱、或代號：2330\n",
            "請輸入查詢起始日期：Jan 1 2022 \n",
            "請輸入查詢截止日期：Oct 31 2023\n"
          ]
        }
      ]
    },
    {
      "cell_type": "code",
      "source": [
        "# Download the Stock Data\n",
        "stockQuery = \"{}.TW\".format(stockID)\n",
        "dataset = yf.download(stockQuery, start=startDate.strftime(\"%Y-%m-%d\"), end=endDate.strftime(\"%Y-%m-%d\"))"
      ],
      "metadata": {
        "colab": {
          "base_uri": "https://localhost:8080/"
        },
        "id": "uuGsoJ7Aoxj-",
        "outputId": "ae4ebb5d-5b0d-4694-c214-53294c11ea14"
      },
      "execution_count": 14,
      "outputs": [
        {
          "output_type": "stream",
          "name": "stdout",
          "text": [
            "\r[*********************100%%**********************]  1 of 1 completed\n"
          ]
        }
      ]
    },
    {
      "cell_type": "markdown",
      "source": [
        "# 資料前處理"
      ],
      "metadata": {
        "id": "RXTap472o0PV"
      }
    },
    {
      "cell_type": "code",
      "source": [
        "# Preprocessing: Decomposition\n",
        "X = dataset.loc[:, [\"High\", \"Low\", \"Open\", \"Close\", \"Volume\"]]\n",
        "Y = dataset.loc[:, [\"Close\"]]"
      ],
      "metadata": {
        "id": "piQqXGWaqS5O"
      },
      "execution_count": 15,
      "outputs": []
    },
    {
      "cell_type": "code",
      "source": [
        "# Preprocessing: Feature Scaling (Normalization) with MinMaxScaler\n",
        "from sklearn.preprocessing import MinMaxScaler\n",
        "\n",
        "scaler = MinMaxScaler(feature_range=(0, 1))\n",
        "X_scale = scaler.fit_transform(X)\n",
        "Y_scale = scaler.fit_transform(Y)"
      ],
      "metadata": {
        "id": "Ff2BxqdxqUdO"
      },
      "execution_count": 16,
      "outputs": []
    },
    {
      "cell_type": "code",
      "source": [
        "# Preprocessing: Split Training & Testing Data\n",
        "X_train, X_val, X_test = np.split(X_scale,\n",
        "                [int(train_size * len(X_scale)), int((train_size + val_size) * len(X_scale))])\n",
        "Y_train, Y_val, Y_test = np.split(Y_scale,\n",
        "                [int(train_size * len(Y_scale)), int((train_size + val_size) * len(Y_scale))])"
      ],
      "metadata": {
        "id": "-MROQOg6rZQq"
      },
      "execution_count": 17,
      "outputs": []
    },
    {
      "cell_type": "code",
      "source": [
        "# Preprocessing: Generate Recurrent Data\n",
        "from tensorflow.keras.preprocessing.sequence import TimeseriesGenerator\n",
        "\n",
        "train_set = TimeseriesGenerator(\n",
        "        data=X_train,\n",
        "        targets=Y_train,\n",
        "        length=win_size,\n",
        "        sampling_rate=sample_step,\n",
        "        stride=win_moving,\n",
        "        batch_size=data_batch)\n",
        "\n",
        "val_set = TimeseriesGenerator(\n",
        "        data=X_val,\n",
        "        targets=Y_val,\n",
        "        length=win_size,\n",
        "        sampling_rate=sample_step,\n",
        "        stride=win_moving,\n",
        "        batch_size=data_batch)\n",
        "\n",
        "test_set = TimeseriesGenerator(\n",
        "        data=X_test,\n",
        "        targets=Y_test,\n",
        "        length=win_size,\n",
        "        sampling_rate=sample_step,\n",
        "        stride=win_moving,\n",
        "        batch_size=data_batch)"
      ],
      "metadata": {
        "id": "HSfsiipAsNl9"
      },
      "execution_count": 18,
      "outputs": []
    },
    {
      "cell_type": "markdown",
      "source": [
        "# 模型建立"
      ],
      "metadata": {
        "id": "HJBAozzcsYXn"
      }
    },
    {
      "cell_type": "code",
      "source": [
        "# Create Model\n",
        "from tensorflow.keras.models import Sequential\n",
        "from tensorflow.keras import layers\n",
        "\n",
        "model = Sequential()\n",
        "model.add(layers.LSTM(units=50, return_sequences=True, input_shape=(win_size, X.shape[1])))\n",
        "model.add(layers.Dropout(0.2))\n",
        "model.add(layers.LSTM(units=50, return_sequences=True))\n",
        "model.add(layers.Dropout(0.2))\n",
        "model.add(layers.LSTM(units=50))\n",
        "model.add(layers.Dropout(0.2))\n",
        "model.add(layers.Dense(Y.shape[1], activation=\"linear\"))\n",
        "\n",
        "from tensorflow.keras.optimizers import RMSprop\n",
        "model.compile(optimizer=RMSprop(learning_rate=1e-5), loss=\"mse\", metrics=[\"mse\"])"
      ],
      "metadata": {
        "id": "7pZeFQ9wvQ0-"
      },
      "execution_count": 23,
      "outputs": []
    },
    {
      "cell_type": "markdown",
      "source": [
        "# 模型校正"
      ],
      "metadata": {
        "id": "cxamBJE8zGLA"
      }
    },
    {
      "cell_type": "code",
      "source": [
        "# Load the TensorBoard notebook extension\n",
        "%load_ext tensorboard\n",
        "\n",
        "# Create TensorBoard log directory\n",
        "import os\n",
        "from datetime import datetime\n",
        "from tensorflow.keras.callbacks import TensorBoard\n",
        "\n",
        "logdir = os.path.join(\"logs\", datetime.now().strftime(\"%Y%m%d-%H%M%S\"))\n",
        "tensorboard_callback = TensorBoard(logdir, histogram_freq=1)"
      ],
      "metadata": {
        "id": "YM6TR4A8zH-v"
      },
      "execution_count": 24,
      "outputs": []
    },
    {
      "cell_type": "code",
      "source": [
        "# Start the TensorBoard\n",
        "%tensorboard --logdir logs"
      ],
      "metadata": {
        "colab": {
          "base_uri": "https://localhost:8080/",
          "height": 839
        },
        "id": "5DLuyePNzNiM",
        "outputId": "7333dacb-ca58-41d6-91b9-161a28dbfa9d"
      },
      "execution_count": 27,
      "outputs": [
        {
          "output_type": "display_data",
          "data": {
            "text/plain": [
              "Reusing TensorBoard on port 6006 (pid 19863), started 0:06:28 ago. (Use '!kill 19863' to kill it.)"
            ]
          },
          "metadata": {}
        },
        {
          "output_type": "display_data",
          "data": {
            "text/plain": [
              "<IPython.core.display.Javascript object>"
            ],
            "application/javascript": [
              "\n",
              "        (async () => {\n",
              "            const url = new URL(await google.colab.kernel.proxyPort(6006, {'cache': true}));\n",
              "            url.searchParams.set('tensorboardColab', 'true');\n",
              "            const iframe = document.createElement('iframe');\n",
              "            iframe.src = url;\n",
              "            iframe.setAttribute('width', '100%');\n",
              "            iframe.setAttribute('height', '800');\n",
              "            iframe.setAttribute('frameborder', 0);\n",
              "            document.body.appendChild(iframe);\n",
              "        })();\n",
              "    "
            ]
          },
          "metadata": {}
        }
      ]
    },
    {
      "cell_type": "code",
      "source": [
        "# Train Model\n",
        "model.fit(train_set, validation_data=val_set, epochs=100, callbacks=[tensorboard_callback])"
      ],
      "metadata": {
        "colab": {
          "base_uri": "https://localhost:8080/"
        },
        "id": "n8pWTr7OzQgc",
        "outputId": "6f545232-217b-492f-d9d8-b9d56ae772e1"
      },
      "execution_count": 26,
      "outputs": [
        {
          "output_type": "stream",
          "name": "stdout",
          "text": [
            "Epoch 1/100\n",
            "47/47 [==============================] - 13s 37ms/step - loss: 0.1928 - mse: 0.1928 - val_loss: 0.2530 - val_mse: 0.2530\n",
            "Epoch 2/100\n",
            "47/47 [==============================] - 1s 17ms/step - loss: 0.1639 - mse: 0.1639 - val_loss: 0.2193 - val_mse: 0.2193\n",
            "Epoch 3/100\n",
            "47/47 [==============================] - 1s 19ms/step - loss: 0.1416 - mse: 0.1416 - val_loss: 0.1874 - val_mse: 0.1874\n",
            "Epoch 4/100\n",
            "47/47 [==============================] - 1s 12ms/step - loss: 0.1136 - mse: 0.1136 - val_loss: 0.1565 - val_mse: 0.1565\n",
            "Epoch 5/100\n",
            "47/47 [==============================] - 1s 12ms/step - loss: 0.0915 - mse: 0.0915 - val_loss: 0.1283 - val_mse: 0.1283\n",
            "Epoch 6/100\n",
            "47/47 [==============================] - 1s 13ms/step - loss: 0.0745 - mse: 0.0745 - val_loss: 0.1014 - val_mse: 0.1014\n",
            "Epoch 7/100\n",
            "47/47 [==============================] - 1s 12ms/step - loss: 0.0550 - mse: 0.0550 - val_loss: 0.0767 - val_mse: 0.0767\n",
            "Epoch 8/100\n",
            "47/47 [==============================] - 1s 16ms/step - loss: 0.0427 - mse: 0.0427 - val_loss: 0.0563 - val_mse: 0.0563\n",
            "Epoch 9/100\n",
            "47/47 [==============================] - 1s 16ms/step - loss: 0.0309 - mse: 0.0309 - val_loss: 0.0392 - val_mse: 0.0392\n",
            "Epoch 10/100\n",
            "47/47 [==============================] - 1s 21ms/step - loss: 0.0239 - mse: 0.0239 - val_loss: 0.0285 - val_mse: 0.0285\n",
            "Epoch 11/100\n",
            "47/47 [==============================] - 1s 31ms/step - loss: 0.0217 - mse: 0.0217 - val_loss: 0.0217 - val_mse: 0.0217\n",
            "Epoch 12/100\n",
            "47/47 [==============================] - 1s 12ms/step - loss: 0.0163 - mse: 0.0163 - val_loss: 0.0182 - val_mse: 0.0182\n",
            "Epoch 13/100\n",
            "47/47 [==============================] - 1s 14ms/step - loss: 0.0172 - mse: 0.0172 - val_loss: 0.0152 - val_mse: 0.0152\n",
            "Epoch 14/100\n",
            "47/47 [==============================] - 1s 12ms/step - loss: 0.0174 - mse: 0.0174 - val_loss: 0.0136 - val_mse: 0.0136\n",
            "Epoch 15/100\n",
            "47/47 [==============================] - 1s 12ms/step - loss: 0.0163 - mse: 0.0163 - val_loss: 0.0131 - val_mse: 0.0131\n",
            "Epoch 16/100\n",
            "47/47 [==============================] - 1s 12ms/step - loss: 0.0177 - mse: 0.0177 - val_loss: 0.0142 - val_mse: 0.0142\n",
            "Epoch 17/100\n",
            "47/47 [==============================] - 1s 12ms/step - loss: 0.0169 - mse: 0.0169 - val_loss: 0.0134 - val_mse: 0.0134\n",
            "Epoch 18/100\n",
            "47/47 [==============================] - 1s 12ms/step - loss: 0.0167 - mse: 0.0167 - val_loss: 0.0137 - val_mse: 0.0137\n",
            "Epoch 19/100\n",
            "47/47 [==============================] - 1s 12ms/step - loss: 0.0162 - mse: 0.0162 - val_loss: 0.0144 - val_mse: 0.0144\n",
            "Epoch 20/100\n",
            "47/47 [==============================] - 1s 13ms/step - loss: 0.0155 - mse: 0.0155 - val_loss: 0.0132 - val_mse: 0.0132\n",
            "Epoch 21/100\n",
            "47/47 [==============================] - 1s 12ms/step - loss: 0.0182 - mse: 0.0182 - val_loss: 0.0128 - val_mse: 0.0128\n",
            "Epoch 22/100\n",
            "47/47 [==============================] - 1s 13ms/step - loss: 0.0159 - mse: 0.0159 - val_loss: 0.0130 - val_mse: 0.0130\n",
            "Epoch 23/100\n",
            "47/47 [==============================] - 1s 14ms/step - loss: 0.0160 - mse: 0.0160 - val_loss: 0.0128 - val_mse: 0.0128\n",
            "Epoch 24/100\n",
            "47/47 [==============================] - 1s 14ms/step - loss: 0.0169 - mse: 0.0169 - val_loss: 0.0128 - val_mse: 0.0128\n",
            "Epoch 25/100\n",
            "47/47 [==============================] - 1s 17ms/step - loss: 0.0160 - mse: 0.0160 - val_loss: 0.0129 - val_mse: 0.0129\n",
            "Epoch 26/100\n",
            "47/47 [==============================] - 1s 18ms/step - loss: 0.0171 - mse: 0.0171 - val_loss: 0.0136 - val_mse: 0.0136\n",
            "Epoch 27/100\n",
            "47/47 [==============================] - 1s 24ms/step - loss: 0.0163 - mse: 0.0163 - val_loss: 0.0128 - val_mse: 0.0128\n",
            "Epoch 28/100\n",
            "47/47 [==============================] - 1s 23ms/step - loss: 0.0159 - mse: 0.0159 - val_loss: 0.0133 - val_mse: 0.0133\n",
            "Epoch 29/100\n",
            "47/47 [==============================] - 1s 13ms/step - loss: 0.0158 - mse: 0.0158 - val_loss: 0.0144 - val_mse: 0.0144\n",
            "Epoch 30/100\n",
            "47/47 [==============================] - 1s 13ms/step - loss: 0.0140 - mse: 0.0140 - val_loss: 0.0133 - val_mse: 0.0133\n",
            "Epoch 31/100\n",
            "47/47 [==============================] - 1s 13ms/step - loss: 0.0157 - mse: 0.0157 - val_loss: 0.0132 - val_mse: 0.0132\n",
            "Epoch 32/100\n",
            "47/47 [==============================] - 1s 12ms/step - loss: 0.0154 - mse: 0.0154 - val_loss: 0.0130 - val_mse: 0.0130\n",
            "Epoch 33/100\n",
            "47/47 [==============================] - 1s 12ms/step - loss: 0.0152 - mse: 0.0152 - val_loss: 0.0129 - val_mse: 0.0129\n",
            "Epoch 34/100\n",
            "47/47 [==============================] - 1s 12ms/step - loss: 0.0151 - mse: 0.0151 - val_loss: 0.0127 - val_mse: 0.0127\n",
            "Epoch 35/100\n",
            "47/47 [==============================] - 1s 12ms/step - loss: 0.0138 - mse: 0.0138 - val_loss: 0.0133 - val_mse: 0.0133\n",
            "Epoch 36/100\n",
            "47/47 [==============================] - 1s 12ms/step - loss: 0.0132 - mse: 0.0132 - val_loss: 0.0133 - val_mse: 0.0133\n",
            "Epoch 37/100\n",
            "47/47 [==============================] - 1s 13ms/step - loss: 0.0151 - mse: 0.0151 - val_loss: 0.0128 - val_mse: 0.0128\n",
            "Epoch 38/100\n",
            "47/47 [==============================] - 1s 13ms/step - loss: 0.0153 - mse: 0.0153 - val_loss: 0.0129 - val_mse: 0.0129\n",
            "Epoch 39/100\n",
            "47/47 [==============================] - 1s 12ms/step - loss: 0.0145 - mse: 0.0145 - val_loss: 0.0121 - val_mse: 0.0121\n",
            "Epoch 40/100\n",
            "47/47 [==============================] - 1s 12ms/step - loss: 0.0159 - mse: 0.0159 - val_loss: 0.0127 - val_mse: 0.0127\n",
            "Epoch 41/100\n",
            "47/47 [==============================] - 1s 12ms/step - loss: 0.0144 - mse: 0.0144 - val_loss: 0.0131 - val_mse: 0.0131\n",
            "Epoch 42/100\n",
            "47/47 [==============================] - 1s 12ms/step - loss: 0.0140 - mse: 0.0140 - val_loss: 0.0134 - val_mse: 0.0134\n",
            "Epoch 43/100\n",
            "47/47 [==============================] - 1s 14ms/step - loss: 0.0137 - mse: 0.0137 - val_loss: 0.0135 - val_mse: 0.0135\n",
            "Epoch 44/100\n",
            "47/47 [==============================] - 1s 16ms/step - loss: 0.0129 - mse: 0.0129 - val_loss: 0.0135 - val_mse: 0.0135\n",
            "Epoch 45/100\n",
            "47/47 [==============================] - 1s 17ms/step - loss: 0.0148 - mse: 0.0148 - val_loss: 0.0133 - val_mse: 0.0133\n",
            "Epoch 46/100\n",
            "47/47 [==============================] - 1s 17ms/step - loss: 0.0146 - mse: 0.0146 - val_loss: 0.0134 - val_mse: 0.0134\n",
            "Epoch 47/100\n",
            "47/47 [==============================] - 1s 13ms/step - loss: 0.0138 - mse: 0.0138 - val_loss: 0.0125 - val_mse: 0.0125\n",
            "Epoch 48/100\n",
            "47/47 [==============================] - 1s 12ms/step - loss: 0.0138 - mse: 0.0138 - val_loss: 0.0130 - val_mse: 0.0130\n",
            "Epoch 49/100\n",
            "47/47 [==============================] - 1s 12ms/step - loss: 0.0149 - mse: 0.0149 - val_loss: 0.0133 - val_mse: 0.0133\n",
            "Epoch 50/100\n",
            "47/47 [==============================] - 1s 12ms/step - loss: 0.0138 - mse: 0.0138 - val_loss: 0.0125 - val_mse: 0.0125\n",
            "Epoch 51/100\n",
            "47/47 [==============================] - 1s 13ms/step - loss: 0.0145 - mse: 0.0145 - val_loss: 0.0130 - val_mse: 0.0130\n",
            "Epoch 52/100\n",
            "47/47 [==============================] - 1s 12ms/step - loss: 0.0146 - mse: 0.0146 - val_loss: 0.0128 - val_mse: 0.0128\n",
            "Epoch 53/100\n",
            "47/47 [==============================] - 1s 13ms/step - loss: 0.0143 - mse: 0.0143 - val_loss: 0.0123 - val_mse: 0.0123\n",
            "Epoch 54/100\n",
            "47/47 [==============================] - 1s 12ms/step - loss: 0.0138 - mse: 0.0138 - val_loss: 0.0127 - val_mse: 0.0127\n",
            "Epoch 55/100\n",
            "47/47 [==============================] - 1s 13ms/step - loss: 0.0140 - mse: 0.0140 - val_loss: 0.0129 - val_mse: 0.0129\n",
            "Epoch 56/100\n",
            "47/47 [==============================] - 1s 12ms/step - loss: 0.0134 - mse: 0.0134 - val_loss: 0.0130 - val_mse: 0.0130\n",
            "Epoch 57/100\n",
            "47/47 [==============================] - 1s 13ms/step - loss: 0.0128 - mse: 0.0128 - val_loss: 0.0129 - val_mse: 0.0129\n",
            "Epoch 58/100\n",
            "47/47 [==============================] - 1s 13ms/step - loss: 0.0132 - mse: 0.0132 - val_loss: 0.0128 - val_mse: 0.0128\n",
            "Epoch 59/100\n",
            "47/47 [==============================] - 1s 13ms/step - loss: 0.0129 - mse: 0.0129 - val_loss: 0.0131 - val_mse: 0.0131\n",
            "Epoch 60/100\n",
            "47/47 [==============================] - 1s 19ms/step - loss: 0.0125 - mse: 0.0125 - val_loss: 0.0123 - val_mse: 0.0123\n",
            "Epoch 61/100\n",
            "47/47 [==============================] - 1s 18ms/step - loss: 0.0123 - mse: 0.0123 - val_loss: 0.0121 - val_mse: 0.0121\n",
            "Epoch 62/100\n",
            "47/47 [==============================] - 1s 17ms/step - loss: 0.0130 - mse: 0.0130 - val_loss: 0.0127 - val_mse: 0.0127\n",
            "Epoch 63/100\n",
            "47/47 [==============================] - 1s 13ms/step - loss: 0.0126 - mse: 0.0126 - val_loss: 0.0126 - val_mse: 0.0126\n",
            "Epoch 64/100\n",
            "47/47 [==============================] - 1s 13ms/step - loss: 0.0139 - mse: 0.0139 - val_loss: 0.0123 - val_mse: 0.0123\n",
            "Epoch 65/100\n",
            "47/47 [==============================] - 1s 13ms/step - loss: 0.0136 - mse: 0.0136 - val_loss: 0.0128 - val_mse: 0.0128\n",
            "Epoch 66/100\n",
            "47/47 [==============================] - 1s 12ms/step - loss: 0.0123 - mse: 0.0123 - val_loss: 0.0129 - val_mse: 0.0129\n",
            "Epoch 67/100\n",
            "47/47 [==============================] - 1s 13ms/step - loss: 0.0129 - mse: 0.0129 - val_loss: 0.0125 - val_mse: 0.0125\n",
            "Epoch 68/100\n",
            "47/47 [==============================] - 1s 12ms/step - loss: 0.0125 - mse: 0.0125 - val_loss: 0.0122 - val_mse: 0.0122\n",
            "Epoch 69/100\n",
            "47/47 [==============================] - 1s 13ms/step - loss: 0.0122 - mse: 0.0122 - val_loss: 0.0121 - val_mse: 0.0121\n",
            "Epoch 70/100\n",
            "47/47 [==============================] - 1s 13ms/step - loss: 0.0124 - mse: 0.0124 - val_loss: 0.0121 - val_mse: 0.0121\n",
            "Epoch 71/100\n",
            "47/47 [==============================] - 1s 12ms/step - loss: 0.0139 - mse: 0.0139 - val_loss: 0.0122 - val_mse: 0.0122\n",
            "Epoch 72/100\n",
            "47/47 [==============================] - 1s 12ms/step - loss: 0.0129 - mse: 0.0129 - val_loss: 0.0118 - val_mse: 0.0118\n",
            "Epoch 73/100\n",
            "47/47 [==============================] - 1s 13ms/step - loss: 0.0118 - mse: 0.0118 - val_loss: 0.0119 - val_mse: 0.0119\n",
            "Epoch 74/100\n",
            "47/47 [==============================] - 1s 12ms/step - loss: 0.0123 - mse: 0.0123 - val_loss: 0.0122 - val_mse: 0.0122\n",
            "Epoch 75/100\n",
            "47/47 [==============================] - 1s 13ms/step - loss: 0.0116 - mse: 0.0116 - val_loss: 0.0125 - val_mse: 0.0125\n",
            "Epoch 76/100\n",
            "47/47 [==============================] - 1s 12ms/step - loss: 0.0127 - mse: 0.0127 - val_loss: 0.0124 - val_mse: 0.0124\n",
            "Epoch 77/100\n",
            "47/47 [==============================] - 1s 13ms/step - loss: 0.0123 - mse: 0.0123 - val_loss: 0.0121 - val_mse: 0.0121\n",
            "Epoch 78/100\n",
            "47/47 [==============================] - 1s 18ms/step - loss: 0.0126 - mse: 0.0126 - val_loss: 0.0119 - val_mse: 0.0119\n",
            "Epoch 79/100\n",
            "47/47 [==============================] - 1s 17ms/step - loss: 0.0124 - mse: 0.0124 - val_loss: 0.0116 - val_mse: 0.0116\n",
            "Epoch 80/100\n",
            "47/47 [==============================] - 1s 18ms/step - loss: 0.0118 - mse: 0.0118 - val_loss: 0.0126 - val_mse: 0.0126\n",
            "Epoch 81/100\n",
            "47/47 [==============================] - 1s 12ms/step - loss: 0.0113 - mse: 0.0113 - val_loss: 0.0120 - val_mse: 0.0120\n",
            "Epoch 82/100\n",
            "47/47 [==============================] - 1s 12ms/step - loss: 0.0123 - mse: 0.0123 - val_loss: 0.0114 - val_mse: 0.0114\n",
            "Epoch 83/100\n",
            "47/47 [==============================] - 1s 12ms/step - loss: 0.0124 - mse: 0.0124 - val_loss: 0.0118 - val_mse: 0.0118\n",
            "Epoch 84/100\n",
            "47/47 [==============================] - 1s 12ms/step - loss: 0.0125 - mse: 0.0125 - val_loss: 0.0115 - val_mse: 0.0115\n",
            "Epoch 85/100\n",
            "47/47 [==============================] - 1s 12ms/step - loss: 0.0120 - mse: 0.0120 - val_loss: 0.0113 - val_mse: 0.0113\n",
            "Epoch 86/100\n",
            "47/47 [==============================] - 1s 12ms/step - loss: 0.0108 - mse: 0.0108 - val_loss: 0.0118 - val_mse: 0.0118\n",
            "Epoch 87/100\n",
            "47/47 [==============================] - 1s 12ms/step - loss: 0.0114 - mse: 0.0114 - val_loss: 0.0120 - val_mse: 0.0120\n",
            "Epoch 88/100\n",
            "47/47 [==============================] - 1s 12ms/step - loss: 0.0109 - mse: 0.0109 - val_loss: 0.0118 - val_mse: 0.0118\n",
            "Epoch 89/100\n",
            "47/47 [==============================] - 1s 12ms/step - loss: 0.0114 - mse: 0.0114 - val_loss: 0.0120 - val_mse: 0.0120\n",
            "Epoch 90/100\n",
            "47/47 [==============================] - 1s 12ms/step - loss: 0.0114 - mse: 0.0114 - val_loss: 0.0122 - val_mse: 0.0122\n",
            "Epoch 91/100\n",
            "47/47 [==============================] - 1s 12ms/step - loss: 0.0133 - mse: 0.0133 - val_loss: 0.0117 - val_mse: 0.0117\n",
            "Epoch 92/100\n",
            "47/47 [==============================] - 1s 12ms/step - loss: 0.0121 - mse: 0.0121 - val_loss: 0.0117 - val_mse: 0.0117\n",
            "Epoch 93/100\n",
            "47/47 [==============================] - 1s 12ms/step - loss: 0.0115 - mse: 0.0115 - val_loss: 0.0119 - val_mse: 0.0119\n",
            "Epoch 94/100\n",
            "47/47 [==============================] - 1s 12ms/step - loss: 0.0110 - mse: 0.0110 - val_loss: 0.0112 - val_mse: 0.0112\n",
            "Epoch 95/100\n",
            "47/47 [==============================] - 1s 12ms/step - loss: 0.0117 - mse: 0.0117 - val_loss: 0.0127 - val_mse: 0.0127\n",
            "Epoch 96/100\n",
            "47/47 [==============================] - 1s 12ms/step - loss: 0.0120 - mse: 0.0120 - val_loss: 0.0132 - val_mse: 0.0132\n",
            "Epoch 97/100\n",
            "47/47 [==============================] - 1s 17ms/step - loss: 0.0108 - mse: 0.0108 - val_loss: 0.0123 - val_mse: 0.0123\n",
            "Epoch 98/100\n",
            "47/47 [==============================] - 1s 18ms/step - loss: 0.0116 - mse: 0.0116 - val_loss: 0.0113 - val_mse: 0.0113\n",
            "Epoch 99/100\n",
            "47/47 [==============================] - 1s 16ms/step - loss: 0.0114 - mse: 0.0114 - val_loss: 0.0113 - val_mse: 0.0113\n",
            "Epoch 100/100\n",
            "47/47 [==============================] - 1s 12ms/step - loss: 0.0128 - mse: 0.0128 - val_loss: 0.0115 - val_mse: 0.0115\n"
          ]
        },
        {
          "output_type": "execute_result",
          "data": {
            "text/plain": [
              "<keras.src.callbacks.History at 0x7e1911082f20>"
            ]
          },
          "metadata": {},
          "execution_count": 26
        }
      ]
    },
    {
      "cell_type": "markdown",
      "source": [
        "# 模型訓練"
      ],
      "metadata": {
        "id": "EmdTF9vmzV0r"
      }
    },
    {
      "cell_type": "code",
      "source": [
        "# Train Model (After Correction)\n",
        "model.fit(train_set, validation_data=val_set, epochs=12)"
      ],
      "metadata": {
        "colab": {
          "base_uri": "https://localhost:8080/"
        },
        "id": "sXAtDVlgzUNm",
        "outputId": "bb033b0e-5b32-47a6-a325-228dbc82421a"
      },
      "execution_count": 28,
      "outputs": [
        {
          "output_type": "stream",
          "name": "stdout",
          "text": [
            "Epoch 1/12\n",
            "47/47 [==============================] - 1s 11ms/step - loss: 0.0109 - mse: 0.0109 - val_loss: 0.0112 - val_mse: 0.0112\n",
            "Epoch 2/12\n",
            "47/47 [==============================] - 0s 10ms/step - loss: 0.0108 - mse: 0.0108 - val_loss: 0.0113 - val_mse: 0.0113\n",
            "Epoch 3/12\n",
            "47/47 [==============================] - 1s 10ms/step - loss: 0.0118 - mse: 0.0118 - val_loss: 0.0113 - val_mse: 0.0113\n",
            "Epoch 4/12\n",
            "47/47 [==============================] - 0s 10ms/step - loss: 0.0114 - mse: 0.0114 - val_loss: 0.0116 - val_mse: 0.0116\n",
            "Epoch 5/12\n",
            "47/47 [==============================] - 0s 10ms/step - loss: 0.0112 - mse: 0.0112 - val_loss: 0.0123 - val_mse: 0.0123\n",
            "Epoch 6/12\n",
            "47/47 [==============================] - 1s 12ms/step - loss: 0.0116 - mse: 0.0116 - val_loss: 0.0118 - val_mse: 0.0118\n",
            "Epoch 7/12\n",
            "47/47 [==============================] - 1s 12ms/step - loss: 0.0103 - mse: 0.0103 - val_loss: 0.0105 - val_mse: 0.0105\n",
            "Epoch 8/12\n",
            "47/47 [==============================] - 1s 14ms/step - loss: 0.0113 - mse: 0.0113 - val_loss: 0.0108 - val_mse: 0.0108\n",
            "Epoch 9/12\n",
            "47/47 [==============================] - 1s 13ms/step - loss: 0.0109 - mse: 0.0109 - val_loss: 0.0107 - val_mse: 0.0107\n",
            "Epoch 10/12\n",
            "47/47 [==============================] - 1s 16ms/step - loss: 0.0106 - mse: 0.0106 - val_loss: 0.0115 - val_mse: 0.0115\n",
            "Epoch 11/12\n",
            "47/47 [==============================] - 1s 14ms/step - loss: 0.0108 - mse: 0.0108 - val_loss: 0.0117 - val_mse: 0.0117\n",
            "Epoch 12/12\n",
            "47/47 [==============================] - 1s 11ms/step - loss: 0.0110 - mse: 0.0110 - val_loss: 0.0116 - val_mse: 0.0116\n"
          ]
        },
        {
          "output_type": "execute_result",
          "data": {
            "text/plain": [
              "<keras.src.callbacks.History at 0x7e1911081720>"
            ]
          },
          "metadata": {},
          "execution_count": 28
        }
      ]
    },
    {
      "cell_type": "markdown",
      "source": [
        "# 模型評估"
      ],
      "metadata": {
        "id": "6GBse7nq10A-"
      }
    },
    {
      "cell_type": "code",
      "source": [
        "# In[] Model Evaluation\n",
        "test_loss, test_mse = model.evaluate(test_set)\n",
        "print(\"Loss of Test Set:\", test_loss)\n",
        "print(\"MSE of Test Set:\", test_mse)"
      ],
      "metadata": {
        "colab": {
          "base_uri": "https://localhost:8080/"
        },
        "id": "K0c1NsFk11mg",
        "outputId": "12bc8aec-3c36-4b9a-aaef-9af1cfce227f"
      },
      "execution_count": 29,
      "outputs": [
        {
          "output_type": "stream",
          "name": "stdout",
          "text": [
            "12/12 [==============================] - 0s 4ms/step - loss: 0.0039 - mse: 0.0039    \n",
            "Loss of Test Set: 0.00389191135764122\n",
            "MSE of Test Set: 0.00389191135764122\n"
          ]
        }
      ]
    },
    {
      "cell_type": "markdown",
      "source": [
        "# 模型預測"
      ],
      "metadata": {
        "id": "GepfzIa-2AU6"
      }
    },
    {
      "cell_type": "code",
      "source": [
        "# Get the Predict Price (with date)\n",
        "Y_pred = model.predict(test_set)\n",
        "Y_pred_price = scaler.inverse_transform(Y_pred)\n",
        "Y_pred_price = pd.DataFrame(data=Y_pred_price)\n",
        "Y_pred_price.columns = [\"收盤價\"]\n",
        "Y_pred_price.index = dataset.index[-len(Y_pred_price):].strftime(\"%Y-%m-%d\").tolist()\n",
        "\n",
        "# Get the Real Price (with date)\n",
        "Y_real_price = dataset.iloc[-len(Y_pred_price):][\"Close\"].to_frame()\n",
        "Y_real_price.columns = [\"收盤價\"]\n",
        "Y_real_price.index = dataset.index[-len(Y_pred_price):].strftime(\"%Y-%m-%d\").tolist()\n",
        "\n",
        "# Plot the predict vs. real price\n",
        "import matplotlib.ticker as ticker\n",
        "\n",
        "fig, ax = plt.subplots(1, 1)\n",
        "\n",
        "ax.plot(Y_pred_price, color=\"blue\", label=\"Predict\")\n",
        "ax.plot(Y_real_price, color=\"red\", label=\"Real\")\n",
        "\n",
        "tick_spacing = 5\n",
        "ax.xaxis.set_major_locator(ticker.MultipleLocator(tick_spacing))\n",
        "fig.autofmt_xdate()\n",
        "\n",
        "plt.title(\"{} 收盤價盲測結果\".format(stockName), fontproperties=myfont)\n",
        "plt.xlabel(\"日期\", fontproperties=myfont)\n",
        "plt.ylabel(\"收盤價\", fontproperties=myfont)\n",
        "plt.legend(loc=\"best\")\n",
        "plt.show()"
      ],
      "metadata": {
        "colab": {
          "base_uri": "https://localhost:8080/",
          "height": 482
        },
        "id": "qimIbSOH2Ci2",
        "outputId": "a2d72e18-1eb6-49fc-a9b8-27feb4671463"
      },
      "execution_count": 30,
      "outputs": [
        {
          "output_type": "stream",
          "name": "stdout",
          "text": [
            "12/12 [==============================] - 1s 5ms/step\n"
          ]
        },
        {
          "output_type": "display_data",
          "data": {
            "text/plain": [
              "<Figure size 640x480 with 1 Axes>"
            ],
            "image/png": "[encoded data removed]"
          },
          "metadata": {}
        }
      ]
    },
    {
      "cell_type": "markdown",
      "source": [
        "# 預測明日股價"
      ],
      "metadata": {
        "id": "Ud35XdNn2RsA"
      }
    },
    {
      "cell_type": "code",
      "source": [
        "# Get Trade Day\n",
        "import datetime\n",
        "this_trade_day = dataset.index[-1].to_pydatetime()\n",
        "next_trade_day = this_trade_day + datetime.timedelta(days=1)\n",
        "if next_trade_day.isoweekday() in set((6, 7)):\n",
        "    next_trade_day += datetime.timedelta(days=8-next_trade_day.isoweekday())\n",
        "\n",
        "# Show Predict Price\n",
        "lookback_data = [[]]\n",
        "for i in range(-win_size, 0):\n",
        "    lookback_data[0].append(X_scale[i].tolist())\n",
        "\n",
        "lookback_data = np.reshape(lookback_data, (1, win_size, X_scale.shape[1]))\n",
        "tomorrow_pred = scaler.inverse_transform(model.predict(lookback_data))\n",
        "\n",
        "print()\n",
        "print(\"{}預測收盤價 ----------\".format(stockName))\n",
        "print(\"最後一日（{}）：{:.2f}\".format(this_trade_day.strftime(\"%Y/%m/%d\"), Y_pred_price.iloc[-1][0]))\n",
        "print(\"次交易日（{}）：{:.2f}\".format(next_trade_day.strftime(\"%Y/%m/%d\"), tomorrow_pred[0][0]))\n",
        "print(\"預測漲跌：{:+.2f}\".format(tomorrow_pred[0][0] - Y_pred_price.iloc[-1][0]))\n",
        "\n",
        "# Show Real Price\n",
        "print()\n",
        "print(\"{}真實收盤價 ----------\".format(stockName))\n",
        "print(\"最後一日（{}）：{:.2f}\".format(this_trade_day.strftime(\"%Y/%m/%d\"), dataset.iloc[-1][\"Close\"]))\n",
        "\n",
        "if next_trade_day.date() < datetime.date.today():\n",
        "    next_trade_day_end = next_trade_day + datetime.timedelta(days=1)\n",
        "    tomorrow_real = yf.download(stockQuery,\n",
        "                  start=next_trade_day.date().strftime(\"%Y-%m-%d\"),\n",
        "                  end=next_trade_day_end.date().strftime(\"%Y-%m-%d\"))\n",
        "    print(\"次交易日（{}）：{:.2f}\".format(next_trade_day.strftime(\"%Y/%m/%d\"), tomorrow_real.iloc[0][\"Close\"]))\n",
        "    print(\"真實漲跌：{:+.2f}\".format(tomorrow_real.iloc[0][\"Close\"] - dataset.iloc[-1][\"Close\"]))"
      ],
      "metadata": {
        "colab": {
          "base_uri": "https://localhost:8080/"
        },
        "id": "HkWOGhzq2TsP",
        "outputId": "211ef607-8a47-479e-e2f3-adfa0a19a243"
      },
      "execution_count": 31,
      "outputs": [
        {
          "output_type": "stream",
          "name": "stdout",
          "text": [
            "1/1 [==============================] - 2s 2s/step\n",
            "\n",
            "台積電預測收盤價 ----------\n",
            "最後一日（2023/10/30）：522.04\n",
            "次交易日（2023/10/31）：522.42\n",
            "預測漲跌：+0.39\n",
            "\n",
            "台積電真實收盤價 ----------\n",
            "最後一日（2023/10/30）：532.00\n",
            "[*********************100%%**********************]  1 of 1 completed\n",
            "次交易日（2023/10/31）：529.00\n",
            "真實漲跌：-3.00\n"
          ]
        }
      ]
    }
  ]
}